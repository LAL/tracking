{
 "cells": [
  {
   "cell_type": "code",
   "execution_count": 5,
   "metadata": {
    "collapsed": true
   },
   "outputs": [],
   "source": [
    "import pandas as pd\n",
    "import numpy as np\n",
    "import matplotlib.pyplot as plt\n",
    "import score_cluster\n",
    "import score_physics\n",
    "from plotting import *\n",
    "\n",
    "from scipy.optimize import curve_fit"
   ]
  },
  {
   "cell_type": "code",
   "execution_count": 6,
   "metadata": {
    "collapsed": true
   },
   "outputs": [],
   "source": [
    "df = pd.read_csv(\"result_truth_20.csv\")"
   ]
  },
  {
   "cell_type": "code",
   "execution_count": 64,
   "metadata": {
    "collapsed": false
   },
   "outputs": [],
   "source": [
    "ievent = 1\n",
    "iparticle=1001\n",
    "itrack = 1003\n",
    "\n",
    "df_event=df.loc[df['event']==ievent]\n",
    "df_particle=df_event[df['particle']==iparticle]\n",
    "df_track=df_event[df['track']==itrack]"
   ]
  },
  {
   "cell_type": "code",
   "execution_count": 225,
   "metadata": {
    "collapsed": false
   },
   "outputs": [
    {
     "data": {
      "image/png": "[encoded data removed]",
      "text/plain": [
       "<matplotlib.figure.Figure at 0x107af36d0>"
      ]
     },
     "metadata": {},
     "output_type": "display_data"
    }
   ],
   "source": [
    "x=df_track['x'].values\n",
    "y=df_track['y'].values\n",
    "\n",
    "plt.scatter(x,y)\n",
    "plt.show()"
   ]
  },
  {
   "cell_type": "code",
   "execution_count": 226,
   "metadata": {
    "collapsed": false
   },
   "outputs": [
    {
     "data": {
      "text/plain": [
       "(array([ 0.64975865,  0.88263723,  1.17778935,  1.53509818,  1.95442205,\n",
       "         2.43559448,  2.97842424,  3.58269543,  4.24816759,  4.97457574,\n",
       "         5.76163057,  6.60901845,  7.51640166]),\n",
       " array([ -6.8088364 ,  -9.92490284, -13.03571995, -16.1400433 ,\n",
       "        -19.23663108, -22.32424453, -25.40164844, -28.46761169,\n",
       "        -31.52090768, -34.56031488, -37.58461726, -40.59260485, -43.58307414]))"
      ]
     },
     "execution_count": 226,
     "metadata": {},
     "output_type": "execute_result"
    }
   ],
   "source": [
    "x,y"
   ]
  },
  {
   "cell_type": "code",
   "execution_count": 339,
   "metadata": {
    "collapsed": true
   },
   "outputs": [],
   "source": [
    "def rotateToQuadrant(x,y):\n",
    "    seedx=x[1]-x[0]\n",
    "    seedy=y[1]-y[0]\n",
    "    phi0=np.arctan2(y[0],x[0])\n",
    "    phi1=np.arctan2(seedy,seedx)\n",
    "    phi=phi1\n",
    "    c, s = np.cos(-phi), np.sin(-phi)\n",
    "    xr=c*x-s*y\n",
    "    yr=s*x+c*y\n",
    "    print phi\n",
    "    return xr,yr\n",
    "\n",
    "def func(x, r, vx, vy):\n",
    "    return r - np.sqrt(r**2-(x-vx)**2) + vy"
   ]
  },
  {
   "cell_type": "code",
   "execution_count": null,
   "metadata": {
    "collapsed": true
   },
   "outputs": [],
   "source": []
  },
  {
   "cell_type": "code",
   "execution_count": 340,
   "metadata": {
    "collapsed": false
   },
   "outputs": [
    {
     "name": "stdout",
     "output_type": "stream",
     "text": [
      "-1.49620020722\n"
     ]
    },
    {
     "data": {
      "image/png": "[encoded data removed]",
      "text/plain": [
       "<matplotlib.figure.Figure at 0x107275ed0>"
      ]
     },
     "metadata": {},
     "output_type": "display_data"
    }
   ],
   "source": [
    "xr,yr=rotateToQuadrant(x,y)\n",
    "plt.scatter(xr,yr)\n",
    "plt.plot(xr,yr)\n",
    "plt.show()"
   ]
  },
  {
   "cell_type": "code",
   "execution_count": 341,
   "metadata": {
    "collapsed": false
   },
   "outputs": [],
   "source": [
    "popt, pcov = curve_fit(func, xr, yr, p0=[200.,0.,0.], bounds=([5.,-25.,-25.], [1000., 25, 25]))"
   ]
  },
  {
   "cell_type": "code",
   "execution_count": 342,
   "metadata": {
    "collapsed": false
   },
   "outputs": [
    {
     "data": {
      "text/plain": [
       "array([  1.56249093e+02,   8.40035740e+00,   1.32694799e-01])"
      ]
     },
     "execution_count": 342,
     "metadata": {},
     "output_type": "execute_result"
    }
   ],
   "source": [
    "popt"
   ]
  },
  {
   "cell_type": "code",
   "execution_count": 343,
   "metadata": {
    "collapsed": false
   },
   "outputs": [
    {
     "data": {
      "text/plain": [
       "(array([ 0.64975865,  0.88263723,  1.17778935,  1.53509818,  1.95442205,\n",
       "         2.43559448,  2.97842424,  3.58269543,  4.24816759,  4.97457574,\n",
       "         5.76163057,  6.60901845,  7.51640166]),\n",
       " array([ -6.8088364 ,  -9.92490284, -13.03571995, -16.1400433 ,\n",
       "        -19.23663108, -22.32424453, -25.40164844, -28.46761169,\n",
       "        -31.52090768, -34.56031488, -37.58461726, -40.59260485, -43.58307414]))"
      ]
     },
     "execution_count": 343,
     "metadata": {},
     "output_type": "execute_result"
    }
   ],
   "source": [
    "x,y"
   ]
  },
  {
   "cell_type": "code",
   "execution_count": 344,
   "metadata": {
    "collapsed": false
   },
   "outputs": [
    {
     "data": {
      "image/png": "[encoded data removed]",
      "text/plain": [
       "<matplotlib.figure.Figure at 0x107a57890>"
      ]
     },
     "metadata": {},
     "output_type": "display_data"
    }
   ],
   "source": [
    "xp=np.arange(5.,50.,5.)\n",
    "plt.plot(xp,func(xp,popt[0],popt[1],popt[2]),'k')\n",
    "plt.scatter(xr,yr)\n",
    "plt.show()"
   ]
  },
  {
   "cell_type": "code",
   "execution_count": 345,
   "metadata": {
    "collapsed": false
   },
   "outputs": [
    {
     "data": {
      "text/plain": [
       "array([  1.56249093e+02,   8.40035740e+00,   1.32694799e-01])"
      ]
     },
     "execution_count": 345,
     "metadata": {},
     "output_type": "execute_result"
    }
   ],
   "source": [
    "popt"
   ]
  },
  {
   "cell_type": "code",
   "execution_count": null,
   "metadata": {
    "collapsed": true
   },
   "outputs": [],
   "source": []
  },
  {
   "cell_type": "code",
   "execution_count": 294,
   "metadata": {
    "collapsed": true
   },
   "outputs": [],
   "source": []
  },
  {
   "cell_type": "code",
   "execution_count": 219,
   "metadata": {
    "collapsed": true
   },
   "outputs": [],
   "source": []
  },
  {
   "cell_type": "code",
   "execution_count": 220,
   "metadata": {
    "collapsed": true
   },
   "outputs": [],
   "source": []
  },
  {
   "cell_type": "code",
   "execution_count": 221,
   "metadata": {
    "collapsed": true
   },
   "outputs": [],
   "source": []
  },
  {
   "cell_type": "code",
   "execution_count": null,
   "metadata": {
    "collapsed": false
   },
   "outputs": [],
   "source": []
  },
  {
   "cell_type": "code",
   "execution_count": null,
   "metadata": {
    "collapsed": true
   },
   "outputs": [],
   "source": []
  }
 ],
 "metadata": {
  "kernelspec": {
   "display_name": "Python 2",
   "language": "python",
   "name": "python2"
  },
  "language_info": {
   "codemirror_mode": {
    "name": "ipython",
    "version": 2
   },
   "file_extension": ".py",
   "mimetype": "text/x-python",
   "name": "python",
   "nbconvert_exporter": "python",
   "pygments_lexer": "ipython2",
   "version": "2.7.6"
  }
 },
 "nbformat": 4,
 "nbformat_minor": 2
}

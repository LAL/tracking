{
 "cells": [
  {
   "cell_type": "markdown",
   "metadata": {},
   "source": [
    "<h1> <a href=http://www.datascience-paris-saclay.fr/>Paris Saclay Center for Data Science</a> </h1>\n",
    "\n",
    "<h2> RAMP on charged particle tracking with ATLAS detector </h2>\n",
    "\n",
    "<i> Thomas Boser, Mikhail Hushchyn, Balázs Kégl, David Rousseau, Yetkin Yılmaz </i>"
   ]
  },
  {
   "cell_type": "markdown",
   "metadata": {},
   "source": [
    "<h2> Introduction </h2>\n",
    "\n",
    "<p> \n",
    "\n",
    "<p>The main objective is to achive the optimal assignment of each hit to a track id.\n",
    "\n"
   ]
  },
  {
   "cell_type": "markdown",
   "metadata": {},
   "source": [
    "### Requirements\n",
    "\n",
    "* numpy>=1.10.0  \n",
    "* matplotlib>=1.5.0 \n",
    "* pandas>=0.17.0  \n",
    "* scikit-learn>=0.17 (different syntaxes for v0.17 and v0.18)  "
   ]
  },
  {
   "cell_type": "code",
   "execution_count": 50,
   "metadata": {
    "collapsed": true
   },
   "outputs": [],
   "source": [
    "%matplotlib inline\n",
    "import os\n",
    "import glob\n",
    "import numpy as np\n",
    "from scipy import io\n",
    "import matplotlib.pyplot as plt\n",
    "import pandas as pd"
   ]
  },
  {
   "cell_type": "markdown",
   "metadata": {},
   "source": [
    "## Exploratory data analysis"
   ]
  },
  {
   "cell_type": "markdown",
   "metadata": {},
   "source": [
    "### Loading the data"
   ]
  },
  {
   "cell_type": "code",
   "execution_count": 51,
   "metadata": {
    "collapsed": false
   },
   "outputs": [],
   "source": [
    "filename = \"../data/hits_merged.csv\"\n",
    "df = pd.read_csv(filename)\n",
    "y_df = df[['particle']] + 1000 * df[['event']].values\n",
    "X_df = df.drop(['particle'], axis=1)"
   ]
  },
  {
   "cell_type": "markdown",
   "metadata": {},
   "source": [
    "(particle ids are shifted by 1000 times the event id, in order to make them unique across the dataset)"
   ]
  },
  {
   "cell_type": "code",
   "execution_count": 52,
   "metadata": {
    "collapsed": false
   },
   "outputs": [
    {
     "data": {
      "text/plain": [
       "92023"
      ]
     },
     "execution_count": 52,
     "metadata": {},
     "output_type": "execute_result"
    }
   ],
   "source": [
    "len(df.index)"
   ]
  },
  {
   "cell_type": "markdown",
   "metadata": {},
   "source": [
    "### Looping over events"
   ]
  },
  {
   "cell_type": "code",
   "execution_count": 53,
   "metadata": {
    "collapsed": false
   },
   "outputs": [],
   "source": [
    "y_events = df['event'].values"
   ]
  },
  {
   "cell_type": "code",
   "execution_count": 54,
   "metadata": {
    "collapsed": false
   },
   "outputs": [],
   "source": [
    "events = np.unique(y_events)"
   ]
  },
  {
   "cell_type": "markdown",
   "metadata": {},
   "source": [
    "### Visualize the hits in a single event"
   ]
  },
  {
   "cell_type": "code",
   "execution_count": 55,
   "metadata": {
    "collapsed": false
   },
   "outputs": [],
   "source": [
    "ievent = 0\n",
    "X_df_event = X_df.loc[X_df['event']==ievent]\n",
    "pixelx = X_df_event['x'].values\n",
    "pixely = X_df_event['y'].values\n",
    "particles = y_df.loc[X_df['event']==ievent]['particle'].values"
   ]
  },
  {
   "cell_type": "markdown",
   "metadata": {},
   "source": [
    "#### Hits from all particles"
   ]
  },
  {
   "cell_type": "code",
   "execution_count": 56,
   "metadata": {
    "collapsed": false
   },
   "outputs": [
    {
     "data": {
      "image/png": "[encoded data removed]",
      "text/plain": [
       "<matplotlib.figure.Figure at 0x10d362fd0>"
      ]
     },
     "metadata": {},
     "output_type": "display_data"
    }
   ],
   "source": [
    "plt.scatter(pixelx,pixely)\n",
    "plt.axis('equal')\n",
    "plt.show()"
   ]
  },
  {
   "cell_type": "markdown",
   "metadata": {},
   "source": [
    "This is what the algorithm will see."
   ]
  },
  {
   "cell_type": "markdown",
   "metadata": {},
   "source": [
    "#### Hits from a single particle"
   ]
  },
  {
   "cell_type": "code",
   "execution_count": 57,
   "metadata": {
    "collapsed": false
   },
   "outputs": [
    {
     "data": {
      "image/png": "[encoded data removed]",
      "text/plain": [
       "<matplotlib.figure.Figure at 0x10d40a8d0>"
      ]
     },
     "metadata": {},
     "output_type": "display_data"
    }
   ],
   "source": [
    "iparticle = 2\n",
    "iparticle += ievent * 1000\n",
    "hits_particle = (particles == iparticle)\n",
    "plt.scatter(pixelx[hits_particle],pixely[hits_particle])\n",
    "plt.axis('equal')\n",
    "plt.show()"
   ]
  },
  {
   "cell_type": "code",
   "execution_count": null,
   "metadata": {
    "collapsed": true
   },
   "outputs": [],
   "source": []
  },
  {
   "cell_type": "markdown",
   "metadata": {},
   "source": [
    "So, ideally, our algorithm wants to assign specific ids to all hits in a way that corresponds to the particle. The perfect algorithm will split the event into various tracks:"
   ]
  },
  {
   "cell_type": "code",
   "execution_count": 58,
   "metadata": {
    "collapsed": false
   },
   "outputs": [
    {
     "data": {
      "image/png": "[encoded data removed]",
      "text/plain": [
       "<matplotlib.figure.Figure at 0x10dde25d0>"
      ]
     },
     "metadata": {},
     "output_type": "display_data"
    }
   ],
   "source": [
    "cmap = ['k','b','y','g','r']\n",
    "for iparticle in np.unique(particles):\n",
    "    hits_particle = (particles == iparticle)\n",
    "    plt.scatter(pixelx[hits_particle],pixely[hits_particle],color=cmap[int(iparticle) % 5])\n",
    "plt.show()"
   ]
  },
  {
   "cell_type": "code",
   "execution_count": null,
   "metadata": {
    "collapsed": true
   },
   "outputs": [],
   "source": []
  },
  {
   "cell_type": "markdown",
   "metadata": {},
   "source": [
    "### Matching the hits together"
   ]
  },
  {
   "cell_type": "code",
   "execution_count": 59,
   "metadata": {
    "collapsed": false
   },
   "outputs": [],
   "source": [
    "#import Hough\n",
    "#tracker = Hough.Hough(n_theta_bins=5000, n_radius_bins=1000, min_radius=20., min_hits=4)"
   ]
  },
  {
   "cell_type": "code",
   "execution_count": 60,
   "metadata": {
    "collapsed": true
   },
   "outputs": [],
   "source": [
    "#import NearestHit\n",
    "#tracker = NearestHit.NearestHit(min_cos_value=0.9)"
   ]
  },
  {
   "cell_type": "code",
   "execution_count": 61,
   "metadata": {
    "collapsed": true
   },
   "outputs": [],
   "source": [
    "#import LinearApproximation\n",
    "#tracker = LinearApproximation.LinearApproximation(min_hits=4, window_width=0.03)"
   ]
  },
  {
   "cell_type": "code",
   "execution_count": 71,
   "metadata": {
    "collapsed": true
   },
   "outputs": [],
   "source": [
    "class NearestHit(object):\n",
    "\n",
    "    def __init__(self, min_cos_value=0.9):\n",
    "        self.min_cos_value = min_cos_value\n",
    "\n",
    "    def fit(self, X, y):\n",
    "        pass\n",
    "\n",
    "    def predict_one_event(self, X):\n",
    "        x, y, layers = X[:, 3], X[:, 4], X[:, 1]\n",
    "        used = np.zeros(len(x))\n",
    "        labels = -1. * np.ones(len(x))\n",
    "        track_id = 0\n",
    "\n",
    "        # Start from a hit in the first layer\n",
    "        for first_id in np.arange(0, len(x))[layers == 0]:\n",
    "\n",
    "            track = []\n",
    "            track += [first_id]\n",
    "            used[first_id] = 1\n",
    "\n",
    "            # Go through other detector layers\n",
    "            for one_layer in np.unique(layers)[1:]:\n",
    "\n",
    "                # Select hits of the layer\n",
    "                hit_ids = np.arange(0, len(x))[(layers == one_layer)*(used == 0)]\n",
    "\n",
    "                # Compute distance between hits\n",
    "                diff_r = (x[track[-1]] - x[hit_ids])**2 + (y[track[-1]] - y[hit_ids])**2\n",
    "\n",
    "                if len(diff_r) == 0:\n",
    "                    break\n",
    "\n",
    "                # Select new track hit\n",
    "                track_hit_id = hit_ids[diff_r == diff_r.min()][0]\n",
    "\n",
    "                # Check cos of angle between two track segments\n",
    "                if one_layer != 1:\n",
    "\n",
    "                    x1, x2, x3 = x[track[-2]],  x[track[-1]], x[track_hit_id]\n",
    "                    y1, y2, y3 = y[track[-2]],  y[track[-1]], y[track_hit_id]\n",
    "                    dx1, dx2 = x2 - x1, x3 - x2\n",
    "                    dy1, dy2 = y2 - y1, y3 - y2\n",
    "\n",
    "                    cos = (dx1*dx2 + dy1*dy2) / np.sqrt((dx1**2 + dy1**2) * (dx2**2 + dy2**2))\n",
    "\n",
    "                    if cos < self.min_cos_value:\n",
    "                        break\n",
    "\n",
    "                # Add new hit to the track\n",
    "                track += [track_hit_id]\n",
    "                used[track_hit_id] = 1\n",
    "\n",
    "            # Label the track hits\n",
    "            labels[track] = track_id\n",
    "            track_id += 1\n",
    "\n",
    "\n",
    "        return labels\n",
    "\n",
    "    def predict(self, X):\n",
    "        event_ids = np.unique(X[:, 0])\n",
    "        labels = []\n",
    "\n",
    "        for one_event_id in event_ids:\n",
    "\n",
    "            X_event = X[X[:, 0] == one_event_id]\n",
    "            labels_event = self.predict_one_event(X_event)\n",
    "            labels += list(labels_event)\n",
    "\n",
    "        return np.array(labels)\n"
   ]
  },
  {
   "cell_type": "code",
   "execution_count": null,
   "metadata": {
    "collapsed": true
   },
   "outputs": [],
   "source": []
  },
  {
   "cell_type": "code",
   "execution_count": 72,
   "metadata": {
    "collapsed": false
   },
   "outputs": [],
   "source": [
    "tracker = NearestHit()"
   ]
  },
  {
   "cell_type": "code",
   "execution_count": null,
   "metadata": {
    "collapsed": false
   },
   "outputs": [],
   "source": []
  },
  {
   "cell_type": "code",
   "execution_count": null,
   "metadata": {
    "collapsed": true
   },
   "outputs": [],
   "source": []
  },
  {
   "cell_type": "code",
   "execution_count": null,
   "metadata": {
    "collapsed": false
   },
   "outputs": [],
   "source": []
  },
  {
   "cell_type": "markdown",
   "metadata": {},
   "source": [
    "#### Training the algorithm"
   ]
  },
  {
   "cell_type": "code",
   "execution_count": 73,
   "metadata": {
    "collapsed": false
   },
   "outputs": [],
   "source": [
    "tracker.fit(X_df.values, y_df.values)"
   ]
  },
  {
   "cell_type": "markdown",
   "metadata": {},
   "source": [
    "#### Running the algorithm to reconstruct the tracks in data\n",
    "This will take some time to go through all events"
   ]
  },
  {
   "cell_type": "code",
   "execution_count": 74,
   "metadata": {
    "collapsed": false
   },
   "outputs": [],
   "source": [
    "y_true = y_df['particle'].values\n",
    "y_predicted = tracker.predict(X_df.values)"
   ]
  },
  {
   "cell_type": "code",
   "execution_count": 75,
   "metadata": {
    "collapsed": true
   },
   "outputs": [],
   "source": [
    "y_df['track'] = y_predicted"
   ]
  },
  {
   "cell_type": "markdown",
   "metadata": {},
   "source": [
    "Let's compare how well the tracks corresponds to the particles"
   ]
  },
  {
   "cell_type": "code",
   "execution_count": 76,
   "metadata": {
    "collapsed": false
   },
   "outputs": [
    {
     "data": {
      "text/html": [
       "<div style=\"max-height:1000px;max-width:1500px;overflow:auto;\">\n",
       "<table border=\"1\" class=\"dataframe\">\n",
       "  <thead>\n",
       "    <tr style=\"text-align: right;\">\n",
       "      <th></th>\n",
       "      <th>particle</th>\n",
       "      <th>track</th>\n",
       "    </tr>\n",
       "  </thead>\n",
       "  <tbody>\n",
       "    <tr>\n",
       "      <th>567</th>\n",
       "      <td> 7000</td>\n",
       "      <td> 5</td>\n",
       "    </tr>\n",
       "    <tr>\n",
       "      <th>564</th>\n",
       "      <td> 7000</td>\n",
       "      <td> 5</td>\n",
       "    </tr>\n",
       "    <tr>\n",
       "      <th>566</th>\n",
       "      <td> 7000</td>\n",
       "      <td> 5</td>\n",
       "    </tr>\n",
       "    <tr>\n",
       "      <th>570</th>\n",
       "      <td> 7000</td>\n",
       "      <td> 5</td>\n",
       "    </tr>\n",
       "    <tr>\n",
       "      <th>589</th>\n",
       "      <td> 7000</td>\n",
       "      <td> 5</td>\n",
       "    </tr>\n",
       "    <tr>\n",
       "      <th>588</th>\n",
       "      <td> 7000</td>\n",
       "      <td> 5</td>\n",
       "    </tr>\n",
       "    <tr>\n",
       "      <th>581</th>\n",
       "      <td> 7000</td>\n",
       "      <td> 5</td>\n",
       "    </tr>\n",
       "    <tr>\n",
       "      <th>576</th>\n",
       "      <td> 7000</td>\n",
       "      <td> 5</td>\n",
       "    </tr>\n",
       "    <tr>\n",
       "      <th>548</th>\n",
       "      <td> 7000</td>\n",
       "      <td> 5</td>\n",
       "    </tr>\n",
       "    <tr>\n",
       "      <th>552</th>\n",
       "      <td> 7001</td>\n",
       "      <td> 4</td>\n",
       "    </tr>\n",
       "    <tr>\n",
       "      <th>572</th>\n",
       "      <td> 7001</td>\n",
       "      <td> 4</td>\n",
       "    </tr>\n",
       "    <tr>\n",
       "      <th>573</th>\n",
       "      <td> 7001</td>\n",
       "      <td> 4</td>\n",
       "    </tr>\n",
       "    <tr>\n",
       "      <th>579</th>\n",
       "      <td> 7001</td>\n",
       "      <td> 4</td>\n",
       "    </tr>\n",
       "    <tr>\n",
       "      <th>543</th>\n",
       "      <td> 7001</td>\n",
       "      <td> 4</td>\n",
       "    </tr>\n",
       "    <tr>\n",
       "      <th>541</th>\n",
       "      <td> 7001</td>\n",
       "      <td> 4</td>\n",
       "    </tr>\n",
       "    <tr>\n",
       "      <th>590</th>\n",
       "      <td> 7001</td>\n",
       "      <td> 3</td>\n",
       "    </tr>\n",
       "    <tr>\n",
       "      <th>592</th>\n",
       "      <td> 7001</td>\n",
       "      <td> 4</td>\n",
       "    </tr>\n",
       "    <tr>\n",
       "      <th>560</th>\n",
       "      <td> 7001</td>\n",
       "      <td> 4</td>\n",
       "    </tr>\n",
       "    <tr>\n",
       "      <th>586</th>\n",
       "      <td> 7002</td>\n",
       "      <td> 0</td>\n",
       "    </tr>\n",
       "    <tr>\n",
       "      <th>569</th>\n",
       "      <td> 7002</td>\n",
       "      <td> 0</td>\n",
       "    </tr>\n",
       "    <tr>\n",
       "      <th>594</th>\n",
       "      <td> 7002</td>\n",
       "      <td> 0</td>\n",
       "    </tr>\n",
       "    <tr>\n",
       "      <th>563</th>\n",
       "      <td> 7002</td>\n",
       "      <td> 0</td>\n",
       "    </tr>\n",
       "    <tr>\n",
       "      <th>598</th>\n",
       "      <td> 7002</td>\n",
       "      <td>-1</td>\n",
       "    </tr>\n",
       "    <tr>\n",
       "      <th>558</th>\n",
       "      <td> 7002</td>\n",
       "      <td> 0</td>\n",
       "    </tr>\n",
       "    <tr>\n",
       "      <th>538</th>\n",
       "      <td> 7002</td>\n",
       "      <td> 0</td>\n",
       "    </tr>\n",
       "    <tr>\n",
       "      <th>557</th>\n",
       "      <td> 7002</td>\n",
       "      <td> 0</td>\n",
       "    </tr>\n",
       "    <tr>\n",
       "      <th>593</th>\n",
       "      <td> 7003</td>\n",
       "      <td> 3</td>\n",
       "    </tr>\n",
       "    <tr>\n",
       "      <th>539</th>\n",
       "      <td> 7003</td>\n",
       "      <td> 4</td>\n",
       "    </tr>\n",
       "    <tr>\n",
       "      <th>591</th>\n",
       "      <td> 7003</td>\n",
       "      <td> 3</td>\n",
       "    </tr>\n",
       "    <tr>\n",
       "      <th>542</th>\n",
       "      <td> 7003</td>\n",
       "      <td> 3</td>\n",
       "    </tr>\n",
       "    <tr>\n",
       "      <th>584</th>\n",
       "      <td> 7003</td>\n",
       "      <td> 3</td>\n",
       "    </tr>\n",
       "    <tr>\n",
       "      <th>575</th>\n",
       "      <td> 7003</td>\n",
       "      <td> 3</td>\n",
       "    </tr>\n",
       "    <tr>\n",
       "      <th>574</th>\n",
       "      <td> 7003</td>\n",
       "      <td> 3</td>\n",
       "    </tr>\n",
       "    <tr>\n",
       "      <th>537</th>\n",
       "      <td> 7003</td>\n",
       "      <td> 3</td>\n",
       "    </tr>\n",
       "    <tr>\n",
       "      <th>555</th>\n",
       "      <td> 7003</td>\n",
       "      <td> 3</td>\n",
       "    </tr>\n",
       "    <tr>\n",
       "      <th>571</th>\n",
       "      <td> 7004</td>\n",
       "      <td> 1</td>\n",
       "    </tr>\n",
       "    <tr>\n",
       "      <th>556</th>\n",
       "      <td> 7004</td>\n",
       "      <td> 1</td>\n",
       "    </tr>\n",
       "    <tr>\n",
       "      <th>568</th>\n",
       "      <td> 7004</td>\n",
       "      <td> 1</td>\n",
       "    </tr>\n",
       "    <tr>\n",
       "      <th>577</th>\n",
       "      <td> 7004</td>\n",
       "      <td> 1</td>\n",
       "    </tr>\n",
       "    <tr>\n",
       "      <th>540</th>\n",
       "      <td> 7004</td>\n",
       "      <td> 1</td>\n",
       "    </tr>\n",
       "    <tr>\n",
       "      <th>559</th>\n",
       "      <td> 7004</td>\n",
       "      <td> 1</td>\n",
       "    </tr>\n",
       "    <tr>\n",
       "      <th>580</th>\n",
       "      <td> 7004</td>\n",
       "      <td> 1</td>\n",
       "    </tr>\n",
       "    <tr>\n",
       "      <th>544</th>\n",
       "      <td> 7004</td>\n",
       "      <td> 1</td>\n",
       "    </tr>\n",
       "    <tr>\n",
       "      <th>545</th>\n",
       "      <td> 7004</td>\n",
       "      <td> 1</td>\n",
       "    </tr>\n",
       "    <tr>\n",
       "      <th>596</th>\n",
       "      <td> 7005</td>\n",
       "      <td> 2</td>\n",
       "    </tr>\n",
       "    <tr>\n",
       "      <th>562</th>\n",
       "      <td> 7005</td>\n",
       "      <td> 0</td>\n",
       "    </tr>\n",
       "    <tr>\n",
       "      <th>565</th>\n",
       "      <td> 7005</td>\n",
       "      <td> 0</td>\n",
       "    </tr>\n",
       "    <tr>\n",
       "      <th>587</th>\n",
       "      <td> 7005</td>\n",
       "      <td> 2</td>\n",
       "    </tr>\n",
       "    <tr>\n",
       "      <th>547</th>\n",
       "      <td> 7005</td>\n",
       "      <td> 2</td>\n",
       "    </tr>\n",
       "    <tr>\n",
       "      <th>554</th>\n",
       "      <td> 7005</td>\n",
       "      <td> 2</td>\n",
       "    </tr>\n",
       "    <tr>\n",
       "      <th>550</th>\n",
       "      <td> 7005</td>\n",
       "      <td> 2</td>\n",
       "    </tr>\n",
       "    <tr>\n",
       "      <th>551</th>\n",
       "      <td> 7005</td>\n",
       "      <td> 2</td>\n",
       "    </tr>\n",
       "    <tr>\n",
       "      <th>585</th>\n",
       "      <td> 7005</td>\n",
       "      <td> 2</td>\n",
       "    </tr>\n",
       "    <tr>\n",
       "      <th>553</th>\n",
       "      <td> 7006</td>\n",
       "      <td> 6</td>\n",
       "    </tr>\n",
       "    <tr>\n",
       "      <th>583</th>\n",
       "      <td> 7006</td>\n",
       "      <td> 6</td>\n",
       "    </tr>\n",
       "    <tr>\n",
       "      <th>582</th>\n",
       "      <td> 7006</td>\n",
       "      <td> 6</td>\n",
       "    </tr>\n",
       "    <tr>\n",
       "      <th>546</th>\n",
       "      <td> 7006</td>\n",
       "      <td> 6</td>\n",
       "    </tr>\n",
       "    <tr>\n",
       "      <th>578</th>\n",
       "      <td> 7006</td>\n",
       "      <td> 6</td>\n",
       "    </tr>\n",
       "    <tr>\n",
       "      <th>549</th>\n",
       "      <td> 7006</td>\n",
       "      <td> 6</td>\n",
       "    </tr>\n",
       "    <tr>\n",
       "      <th>561</th>\n",
       "      <td> 7006</td>\n",
       "      <td> 6</td>\n",
       "    </tr>\n",
       "    <tr>\n",
       "      <th></th>\n",
       "      <td>...</td>\n",
       "      <td>...</td>\n",
       "    </tr>\n",
       "  </tbody>\n",
       "</table>\n",
       "<p>62 rows × 2 columns</p>\n",
       "</div>"
      ],
      "text/plain": [
       "     particle  track\n",
       "567      7000      5\n",
       "564      7000      5\n",
       "566      7000      5\n",
       "570      7000      5\n",
       "589      7000      5\n",
       "588      7000      5\n",
       "581      7000      5\n",
       "576      7000      5\n",
       "548      7000      5\n",
       "552      7001      4\n",
       "572      7001      4\n",
       "573      7001      4\n",
       "579      7001      4\n",
       "543      7001      4\n",
       "541      7001      4\n",
       "590      7001      3\n",
       "592      7001      4\n",
       "560      7001      4\n",
       "586      7002      0\n",
       "569      7002      0\n",
       "594      7002      0\n",
       "563      7002      0\n",
       "598      7002     -1\n",
       "558      7002      0\n",
       "538      7002      0\n",
       "557      7002      0\n",
       "593      7003      3\n",
       "539      7003      4\n",
       "591      7003      3\n",
       "542      7003      3\n",
       "584      7003      3\n",
       "575      7003      3\n",
       "574      7003      3\n",
       "537      7003      3\n",
       "555      7003      3\n",
       "571      7004      1\n",
       "556      7004      1\n",
       "568      7004      1\n",
       "577      7004      1\n",
       "540      7004      1\n",
       "559      7004      1\n",
       "580      7004      1\n",
       "544      7004      1\n",
       "545      7004      1\n",
       "596      7005      2\n",
       "562      7005      0\n",
       "565      7005      0\n",
       "587      7005      2\n",
       "547      7005      2\n",
       "554      7005      2\n",
       "550      7005      2\n",
       "551      7005      2\n",
       "585      7005      2\n",
       "553      7006      6\n",
       "583      7006      6\n",
       "582      7006      6\n",
       "546      7006      6\n",
       "578      7006      6\n",
       "549      7006      6\n",
       "561      7006      6\n",
       "          ...    ...\n",
       "\n",
       "[62 rows x 2 columns]"
      ]
     },
     "execution_count": 76,
     "metadata": {},
     "output_type": "execute_result"
    }
   ],
   "source": [
    "y_df[(X_df['event']==7).values].sort(['particle'])"
   ]
  },
  {
   "cell_type": "code",
   "execution_count": 77,
   "metadata": {
    "collapsed": false
   },
   "outputs": [],
   "source": [
    "tracks = y_predicted[(X_df['event']==ievent).values]"
   ]
  },
  {
   "cell_type": "code",
   "execution_count": 78,
   "metadata": {
    "collapsed": false
   },
   "outputs": [
    {
     "data": {
      "image/png": "[encoded data removed]",
      "text/plain": [
       "<matplotlib.figure.Figure at 0x10dd9be90>"
      ]
     },
     "metadata": {},
     "output_type": "display_data"
    }
   ],
   "source": [
    "cmap = ['k','b','y','g','r']\n",
    "for itrack in np.unique(tracks):\n",
    "    if itrack >= 0:\n",
    "        hits_track = (tracks == itrack)\n",
    "        plt.scatter(pixelx[hits_track],pixely[hits_track],color=cmap[int(itrack) % 5])\n",
    "plt.show()"
   ]
  },
  {
   "cell_type": "code",
   "execution_count": null,
   "metadata": {
    "collapsed": true
   },
   "outputs": [],
   "source": []
  },
  {
   "cell_type": "code",
   "execution_count": null,
   "metadata": {
    "collapsed": true
   },
   "outputs": [],
   "source": []
  },
  {
   "cell_type": "markdown",
   "metadata": {},
   "source": [
    "### Scoring the assignment"
   ]
  },
  {
   "cell_type": "markdown",
   "metadata": {},
   "source": [
    "The score function measures the fraction of hits with good track assignment"
   ]
  },
  {
   "cell_type": "code",
   "execution_count": 79,
   "metadata": {
    "collapsed": true
   },
   "outputs": [],
   "source": [
    "def score(y_test, y_pred):\n",
    "\n",
    "    total_score = 0.\n",
    "    y_events = y_test[:,0]\n",
    "    y_test = y_test[:,1]\n",
    "    y_pred = y_pred[:,1]\n",
    "\n",
    "    events = np.unique(y_events)\n",
    "    for ievent in events:\n",
    "        eff_total = 0.\n",
    "        event_indices=(y_events==ievent)\n",
    "        y_test_event = y_test[event_indices]\n",
    "        y_pred_event = y_pred[event_indices]\n",
    "\n",
    "        particles = np.unique(y_test_event)\n",
    "        npart = len(particles)\n",
    "        nhit = len(y_test_event)\n",
    "        dummyarray = np.full(shape=nhit + 1,fill_value=-1, dtype='int64')\n",
    "\n",
    "        assignedtrack = np.full(shape=npart,fill_value=-1, dtype='int64')\n",
    "        hitintrack = np.full(shape=npart,fill_value=0, dtype='int64')\n",
    "        eff = np.full(shape=npart,fill_value=0.)\n",
    "        con = np.full(shape=npart,fill_value=0.)\n",
    "\n",
    "        # assign tracks to particles\n",
    "        ipart = 0\n",
    "        for particle in particles:\n",
    "            \n",
    "            eff[ipart] = 0.\n",
    "            con[ipart] = 0.\n",
    "\n",
    "            true_hits = y_test_event[y_test_event[:] == particle]\n",
    "            found_hits = y_pred_event[y_test_event[:] == particle]\n",
    "\n",
    "            nsubcluster=len(np.unique(found_hits[found_hits[:] >= 0]))\n",
    "\n",
    "            if(nsubcluster > 0):\n",
    "                b=np.bincount((found_hits[found_hits[:] >= 0]).astype(dtype='int64'))\n",
    "                a=np.argmax(b)\n",
    "\n",
    "                maxcluster = a\n",
    "\n",
    "                assignedtrack[ipart]=maxcluster\n",
    "                hitintrack[ipart]=len(found_hits[found_hits[:] == maxcluster])\n",
    "\n",
    "            ipart += 1\n",
    "\n",
    "\n",
    "        # resolve duplicates and count good assignments\n",
    "        ipart = 0\n",
    "        sorted=np.argsort(hitintrack)\n",
    "        hitintrack=hitintrack[sorted]\n",
    "        assignedtrack=assignedtrack[sorted]\n",
    "        #    print hitintrack\n",
    "        for particle in particles:\n",
    "            itrack=assignedtrack[ipart]\n",
    "            if((itrack < 0) | (len(assignedtrack[assignedtrack[:] == itrack])>1)):\n",
    "                hitintrack = np.delete(hitintrack,ipart)\n",
    "                assignedtrack = np.delete(assignedtrack,ipart)\n",
    "            else:\n",
    "                ipart += 1\n",
    "        ngood = 0.\n",
    "        ngood = np.sum(hitintrack)\n",
    "        eff_total = eff_total + (float(ngood) / float(nhit))\n",
    "        # remove combinatorials\n",
    "#        print npart, nhit, eff_total\n",
    "  \n",
    "        total_score += eff_total\n",
    "\n",
    "\n",
    "    total_score /= len(y_events)\n",
    "\n",
    "\n",
    "    return eff_total\n"
   ]
  },
  {
   "cell_type": "code",
   "execution_count": 80,
   "metadata": {
    "collapsed": false
   },
   "outputs": [
    {
     "data": {
      "text/plain": [
       "92023"
      ]
     },
     "execution_count": 80,
     "metadata": {},
     "output_type": "execute_result"
    }
   ],
   "source": [
    "len(y_events)"
   ]
  },
  {
   "cell_type": "code",
   "execution_count": 81,
   "metadata": {
    "collapsed": false
   },
   "outputs": [
    {
     "data": {
      "text/plain": [
       "1.0"
      ]
     },
     "execution_count": 81,
     "metadata": {},
     "output_type": "execute_result"
    }
   ],
   "source": [
    "y_t = np.zeros((len(y_events),2))\n",
    "y_p = np.zeros((len(y_events),2))\n",
    "\n",
    "y_t[:,0] = y_true\n",
    "y_t[:,1] = y_events\n",
    "\n",
    "y_p[:,0] = y_predicted\n",
    "y_p[:,1] = y_events\n",
    "\n",
    "score(y_t,y_p)"
   ]
  },
  {
   "cell_type": "code",
   "execution_count": null,
   "metadata": {
    "collapsed": true
   },
   "outputs": [],
   "source": []
  },
  {
   "cell_type": "code",
   "execution_count": null,
   "metadata": {
    "collapsed": true
   },
   "outputs": [],
   "source": []
  },
  {
   "cell_type": "code",
   "execution_count": null,
   "metadata": {
    "collapsed": true
   },
   "outputs": [],
   "source": []
  },
  {
   "cell_type": "code",
   "execution_count": null,
   "metadata": {
    "collapsed": true
   },
   "outputs": [],
   "source": []
  },
  {
   "cell_type": "markdown",
   "metadata": {},
   "source": [
    "### Fitting the tracks (beyond the challenge)"
   ]
  },
  {
   "cell_type": "code",
   "execution_count": null,
   "metadata": {
    "collapsed": true
   },
   "outputs": [],
   "source": []
  },
  {
   "cell_type": "code",
   "execution_count": null,
   "metadata": {
    "collapsed": true
   },
   "outputs": [],
   "source": []
  },
  {
   "cell_type": "code",
   "execution_count": null,
   "metadata": {
    "collapsed": true
   },
   "outputs": [],
   "source": []
  },
  {
   "cell_type": "code",
   "execution_count": null,
   "metadata": {
    "collapsed": true
   },
   "outputs": [],
   "source": []
  }
 ],
 "metadata": {
  "kernelspec": {
   "display_name": "Python 2",
   "language": "python",
   "name": "python2"
  },
  "language_info": {
   "codemirror_mode": {
    "name": "ipython",
    "version": 2
   },
   "file_extension": ".py",
   "mimetype": "text/x-python",
   "name": "python",
   "nbconvert_exporter": "python",
   "pygments_lexer": "ipython2",
   "version": "2.7.6"
  }
 },
 "nbformat": 4,
 "nbformat_minor": 2
}

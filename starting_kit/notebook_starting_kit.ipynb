{
 "cells": [
  {
   "cell_type": "markdown",
   "metadata": {},
   "source": [
    "<h1> <a href=http://www.datascience-paris-saclay.fr/>Paris Saclay Center for Data Science</a> </h1>\n",
    "\n",
    "<h2> RAMP on charged particle tracking in 2D with a possible future LHC Silicon detector </h2>\n",
    "\n",
    "<i> Thomas Boser (CHALEARN), Mikhail Hushchyn (YSDA/Russia), Balázs Kégl (LAL/Orsay), David Rousseau (LAL/Orsay), Yetkin Yılmaz (LAL/Orsay) </i>"
   ]
  },
  {
   "cell_type": "markdown",
   "metadata": {},
   "source": [
    "<h2> Introduction </h2>\n",
    "\n",
    "<p> \n",
    "\n",
    "<p>The main objective is to achive the optimal assignment of each hit to a track id.\n",
    "\n"
   ]
  },
  {
   "cell_type": "markdown",
   "metadata": {},
   "source": [
    "### Requirements\n",
    "\n",
    "* numpy>=1.10.0  \n",
    "* matplotlib>=1.5.0 \n",
    "* pandas>=0.17.0  \n",
    "* scikit-learn>=0.17 (different syntaxes for v0.17 and v0.18)  "
   ]
  },
  {
   "cell_type": "code",
   "execution_count": 1,
   "metadata": {
    "collapsed": true
   },
   "outputs": [],
   "source": [
    "%matplotlib inline\n",
    "import numpy as np\n",
    "import matplotlib.pyplot as plt\n",
    "import pandas as pd"
   ]
  },
  {
   "cell_type": "markdown",
   "metadata": {},
   "source": [
    "## Exploratory data analysis"
   ]
  },
  {
   "cell_type": "markdown",
   "metadata": {},
   "source": [
    "### Loading the data"
   ]
  },
  {
   "cell_type": "code",
   "execution_count": 2,
   "metadata": {
    "collapsed": false
   },
   "outputs": [],
   "source": [
    "filename = \"public_train.csv\"\n",
    "df = pd.read_csv(filename)"
   ]
  },
  {
   "cell_type": "markdown",
   "metadata": {},
   "source": [
    "The data consists of the following columns:\n",
    "event_id, cluster_id, layer, iphi, x, y"
   ]
  },
  {
   "cell_type": "code",
   "execution_count": 3,
   "metadata": {
    "collapsed": false
   },
   "outputs": [
    {
     "data": {
      "text/html": [
       "<div style=\"max-height:1000px;max-width:1500px;overflow:auto;\">\n",
       "<table border=\"1\" class=\"dataframe\">\n",
       "  <thead>\n",
       "    <tr style=\"text-align: right;\">\n",
       "      <th></th>\n",
       "      <th>event_id</th>\n",
       "      <th>cluster_id</th>\n",
       "      <th>layer</th>\n",
       "      <th>iphi</th>\n",
       "      <th>x</th>\n",
       "      <th>y</th>\n",
       "    </tr>\n",
       "  </thead>\n",
       "  <tbody>\n",
       "    <tr>\n",
       "      <th>0 </th>\n",
       "      <td> 0</td>\n",
       "      <td> 1</td>\n",
       "      <td> 6</td>\n",
       "      <td>  67181</td>\n",
       "      <td> 535.840039</td>\n",
       "      <td>-169.468147</td>\n",
       "    </tr>\n",
       "    <tr>\n",
       "      <th>1 </th>\n",
       "      <td> 0</td>\n",
       "      <td> 2</td>\n",
       "      <td> 7</td>\n",
       "      <td>  22631</td>\n",
       "      <td>  65.319563</td>\n",
       "      <td> 759.195202</td>\n",
       "    </tr>\n",
       "    <tr>\n",
       "      <th>2 </th>\n",
       "      <td> 0</td>\n",
       "      <td> 4</td>\n",
       "      <td> 1</td>\n",
       "      <td>   8368</td>\n",
       "      <td> -66.070384</td>\n",
       "      <td>  53.476203</td>\n",
       "    </tr>\n",
       "    <tr>\n",
       "      <th>3 </th>\n",
       "      <td> 0</td>\n",
       "      <td> 1</td>\n",
       "      <td> 7</td>\n",
       "      <td>  91140</td>\n",
       "      <td> 727.313411</td>\n",
       "      <td>-227.286608</td>\n",
       "    </tr>\n",
       "    <tr>\n",
       "      <th>4 </th>\n",
       "      <td> 0</td>\n",
       "      <td> 2</td>\n",
       "      <td> 4</td>\n",
       "      <td>  16216</td>\n",
       "      <td>  20.268475</td>\n",
       "      <td> 270.240983</td>\n",
       "    </tr>\n",
       "    <tr>\n",
       "      <th>5 </th>\n",
       "      <td> 0</td>\n",
       "      <td> 3</td>\n",
       "      <td> 2</td>\n",
       "      <td>  37015</td>\n",
       "      <td> 147.466204</td>\n",
       "      <td> -47.735927</td>\n",
       "    </tr>\n",
       "    <tr>\n",
       "      <th>6 </th>\n",
       "      <td> 0</td>\n",
       "      <td> 6</td>\n",
       "      <td> 0</td>\n",
       "      <td>   5132</td>\n",
       "      <td> -38.573229</td>\n",
       "      <td>  -5.753784</td>\n",
       "    </tr>\n",
       "    <tr>\n",
       "      <th>7 </th>\n",
       "      <td> 0</td>\n",
       "      <td> 9</td>\n",
       "      <td> 3</td>\n",
       "      <td>   4338</td>\n",
       "      <td> 185.982644</td>\n",
       "      <td> 103.824160</td>\n",
       "    </tr>\n",
       "    <tr>\n",
       "      <th>8 </th>\n",
       "      <td> 0</td>\n",
       "      <td> 9</td>\n",
       "      <td> 8</td>\n",
       "      <td>  10655</td>\n",
       "      <td> 861.414226</td>\n",
       "      <td> 507.903073</td>\n",
       "    </tr>\n",
       "    <tr>\n",
       "      <th>9 </th>\n",
       "      <td> 0</td>\n",
       "      <td> 9</td>\n",
       "      <td> 5</td>\n",
       "      <td>   4177</td>\n",
       "      <td> 352.333427</td>\n",
       "      <td> 199.715188</td>\n",
       "    </tr>\n",
       "    <tr>\n",
       "      <th>10</th>\n",
       "      <td> 0</td>\n",
       "      <td> 1</td>\n",
       "      <td> 4</td>\n",
       "      <td>  64730</td>\n",
       "      <td> 257.932600</td>\n",
       "      <td> -83.137078</td>\n",
       "    </tr>\n",
       "    <tr>\n",
       "      <th>11</th>\n",
       "      <td> 0</td>\n",
       "      <td> 1</td>\n",
       "      <td> 8</td>\n",
       "      <td> 119688</td>\n",
       "      <td> 955.690631</td>\n",
       "      <td>-294.372923</td>\n",
       "    </tr>\n",
       "    <tr>\n",
       "      <th>12</th>\n",
       "      <td> 0</td>\n",
       "      <td> 4</td>\n",
       "      <td> 2</td>\n",
       "      <td>  15284</td>\n",
       "      <td>-120.869271</td>\n",
       "      <td>  97.034114</td>\n",
       "    </tr>\n",
       "    <tr>\n",
       "      <th>13</th>\n",
       "      <td> 0</td>\n",
       "      <td> 5</td>\n",
       "      <td> 8</td>\n",
       "      <td>  68567</td>\n",
       "      <td>-959.168348</td>\n",
       "      <td>-282.835785</td>\n",
       "    </tr>\n",
       "    <tr>\n",
       "      <th>14</th>\n",
       "      <td> 0</td>\n",
       "      <td> 7</td>\n",
       "      <td> 3</td>\n",
       "      <td>   9620</td>\n",
       "      <td>  91.051402</td>\n",
       "      <td> 192.558153</td>\n",
       "    </tr>\n",
       "    <tr>\n",
       "      <th>15</th>\n",
       "      <td> 0</td>\n",
       "      <td> 2</td>\n",
       "      <td> 5</td>\n",
       "      <td>  12094</td>\n",
       "      <td>  31.443203</td>\n",
       "      <td> 403.777569</td>\n",
       "    </tr>\n",
       "    <tr>\n",
       "      <th>16</th>\n",
       "      <td> 0</td>\n",
       "      <td> 0</td>\n",
       "      <td> 2</td>\n",
       "      <td>   5666</td>\n",
       "      <td>  94.656900</td>\n",
       "      <td> 122.739852</td>\n",
       "    </tr>\n",
       "    <tr>\n",
       "      <th>17</th>\n",
       "      <td> 0</td>\n",
       "      <td> 1</td>\n",
       "      <td> 1</td>\n",
       "      <td>  20281</td>\n",
       "      <td>  80.732137</td>\n",
       "      <td> -26.595526</td>\n",
       "    </tr>\n",
       "    <tr>\n",
       "      <th>18</th>\n",
       "      <td> 0</td>\n",
       "      <td> 7</td>\n",
       "      <td> 5</td>\n",
       "      <td>   9186</td>\n",
       "      <td> 171.305140</td>\n",
       "      <td> 366.987124</td>\n",
       "    </tr>\n",
       "    <tr>\n",
       "      <th>19</th>\n",
       "      <td> 0</td>\n",
       "      <td> 7</td>\n",
       "      <td> 0</td>\n",
       "      <td>   1728</td>\n",
       "      <td>  17.423276</td>\n",
       "      <td>  34.891682</td>\n",
       "    </tr>\n",
       "    <tr>\n",
       "      <th>20</th>\n",
       "      <td> 0</td>\n",
       "      <td> 9</td>\n",
       "      <td> 0</td>\n",
       "      <td>    767</td>\n",
       "      <td>  34.380556</td>\n",
       "      <td>  18.411338</td>\n",
       "    </tr>\n",
       "    <tr>\n",
       "      <th>21</th>\n",
       "      <td> 0</td>\n",
       "      <td> 5</td>\n",
       "      <td> 3</td>\n",
       "      <td>  29379</td>\n",
       "      <td>-203.064875</td>\n",
       "      <td> -64.293519</td>\n",
       "    </tr>\n",
       "    <tr>\n",
       "      <th>22</th>\n",
       "      <td> 0</td>\n",
       "      <td> 1</td>\n",
       "      <td> 5</td>\n",
       "      <td>  48390</td>\n",
       "      <td> 385.801871</td>\n",
       "      <td>-123.214919</td>\n",
       "    </tr>\n",
       "    <tr>\n",
       "      <th>23</th>\n",
       "      <td> 0</td>\n",
       "      <td> 5</td>\n",
       "      <td> 6</td>\n",
       "      <td>  38674</td>\n",
       "      <td>-537.047354</td>\n",
       "      <td>-165.602354</td>\n",
       "    </tr>\n",
       "    <tr>\n",
       "      <th>24</th>\n",
       "      <td> 0</td>\n",
       "      <td> 5</td>\n",
       "      <td> 0</td>\n",
       "      <td>   5357</td>\n",
       "      <td> -37.345753</td>\n",
       "      <td> -11.238092</td>\n",
       "    </tr>\n",
       "    <tr>\n",
       "      <th>25</th>\n",
       "      <td> 0</td>\n",
       "      <td> 5</td>\n",
       "      <td> 7</td>\n",
       "      <td>  52351</td>\n",
       "      <td>-729.414033</td>\n",
       "      <td>-220.452192</td>\n",
       "    </tr>\n",
       "    <tr>\n",
       "      <th>26</th>\n",
       "      <td> 0</td>\n",
       "      <td> 7</td>\n",
       "      <td> 2</td>\n",
       "      <td>   6986</td>\n",
       "      <td>  66.585148</td>\n",
       "      <td> 139.969347</td>\n",
       "    </tr>\n",
       "    <tr>\n",
       "      <th>27</th>\n",
       "      <td> 0</td>\n",
       "      <td> 7</td>\n",
       "      <td> 8</td>\n",
       "      <td>  22899</td>\n",
       "      <td> 413.094109</td>\n",
       "      <td> 910.688343</td>\n",
       "    </tr>\n",
       "    <tr>\n",
       "      <th>28</th>\n",
       "      <td> 0</td>\n",
       "      <td> 7</td>\n",
       "      <td> 7</td>\n",
       "      <td>  17385</td>\n",
       "      <td> 317.691114</td>\n",
       "      <td> 692.615591</td>\n",
       "    </tr>\n",
       "    <tr>\n",
       "      <th>29</th>\n",
       "      <td> 0</td>\n",
       "      <td> 5</td>\n",
       "      <td> 5</td>\n",
       "      <td>  27903</td>\n",
       "      <td>-386.525253</td>\n",
       "      <td>-120.926544</td>\n",
       "    </tr>\n",
       "    <tr>\n",
       "      <th>30</th>\n",
       "      <td> 0</td>\n",
       "      <td> 1</td>\n",
       "      <td> 2</td>\n",
       "      <td>  37004</td>\n",
       "      <td> 147.381280</td>\n",
       "      <td> -47.997483</td>\n",
       "    </tr>\n",
       "    <tr>\n",
       "      <th>31</th>\n",
       "      <td> 0</td>\n",
       "      <td> 9</td>\n",
       "      <td> 1</td>\n",
       "      <td>   1704</td>\n",
       "      <td>  74.546686</td>\n",
       "      <td>  40.838604</td>\n",
       "    </tr>\n",
       "    <tr>\n",
       "      <th>32</th>\n",
       "      <td> 0</td>\n",
       "      <td> 5</td>\n",
       "      <td> 4</td>\n",
       "      <td>  37371</td>\n",
       "      <td>-258.418946</td>\n",
       "      <td> -81.612795</td>\n",
       "    </tr>\n",
       "    <tr>\n",
       "      <th>33</th>\n",
       "      <td> 0</td>\n",
       "      <td> 9</td>\n",
       "      <td> 2</td>\n",
       "      <td>   3139</td>\n",
       "      <td> 135.555414</td>\n",
       "      <td>  75.164683</td>\n",
       "    </tr>\n",
       "    <tr>\n",
       "      <th>34</th>\n",
       "      <td> 0</td>\n",
       "      <td> 3</td>\n",
       "      <td> 4</td>\n",
       "      <td>  64732</td>\n",
       "      <td> 257.947935</td>\n",
       "      <td> -83.089488</td>\n",
       "    </tr>\n",
       "    <tr>\n",
       "      <th>35</th>\n",
       "      <td> 0</td>\n",
       "      <td> 2</td>\n",
       "      <td> 1</td>\n",
       "      <td>   5093</td>\n",
       "      <td>   6.188221</td>\n",
       "      <td>  84.774441</td>\n",
       "    </tr>\n",
       "    <tr>\n",
       "      <th>36</th>\n",
       "      <td> 0</td>\n",
       "      <td> 4</td>\n",
       "      <td> 7</td>\n",
       "      <td>  37884</td>\n",
       "      <td>-603.943751</td>\n",
       "      <td> 464.646044</td>\n",
       "    </tr>\n",
       "    <tr>\n",
       "      <th>37</th>\n",
       "      <td> 0</td>\n",
       "      <td> 9</td>\n",
       "      <td> 7</td>\n",
       "      <td>   8017</td>\n",
       "      <td> 658.976048</td>\n",
       "      <td> 382.615432</td>\n",
       "    </tr>\n",
       "    <tr>\n",
       "      <th>38</th>\n",
       "      <td> 0</td>\n",
       "      <td> 4</td>\n",
       "      <td> 6</td>\n",
       "      <td>  27868</td>\n",
       "      <td>-443.192925</td>\n",
       "      <td> 345.577822</td>\n",
       "    </tr>\n",
       "    <tr>\n",
       "      <th>39</th>\n",
       "      <td> 0</td>\n",
       "      <td> 3</td>\n",
       "      <td> 0</td>\n",
       "      <td>   9322</td>\n",
       "      <td>  37.168451</td>\n",
       "      <td> -11.811276</td>\n",
       "    </tr>\n",
       "    <tr>\n",
       "      <th>40</th>\n",
       "      <td> 0</td>\n",
       "      <td> 2</td>\n",
       "      <td> 3</td>\n",
       "      <td>  12754</td>\n",
       "      <td>  15.716876</td>\n",
       "      <td> 212.419349</td>\n",
       "    </tr>\n",
       "    <tr>\n",
       "      <th>41</th>\n",
       "      <td> 0</td>\n",
       "      <td> 8</td>\n",
       "      <td> 0</td>\n",
       "      <td>   7828</td>\n",
       "      <td>  11.727857</td>\n",
       "      <td> -37.194857</td>\n",
       "    </tr>\n",
       "    <tr>\n",
       "      <th>42</th>\n",
       "      <td> 0</td>\n",
       "      <td> 5</td>\n",
       "      <td> 2</td>\n",
       "      <td>  21378</td>\n",
       "      <td>-147.778648</td>\n",
       "      <td> -46.759717</td>\n",
       "    </tr>\n",
       "    <tr>\n",
       "      <th>43</th>\n",
       "      <td> 0</td>\n",
       "      <td> 2</td>\n",
       "      <td> 2</td>\n",
       "      <td>   9286</td>\n",
       "      <td>  11.314854</td>\n",
       "      <td> 154.586462</td>\n",
       "    </tr>\n",
       "    <tr>\n",
       "      <th>44</th>\n",
       "      <td> 0</td>\n",
       "      <td> 0</td>\n",
       "      <td> 8</td>\n",
       "      <td>  17680</td>\n",
       "      <td> 634.064698</td>\n",
       "      <td> 773.280000</td>\n",
       "    </tr>\n",
       "    <tr>\n",
       "      <th>45</th>\n",
       "      <td> 0</td>\n",
       "      <td> 3</td>\n",
       "      <td> 3</td>\n",
       "      <td>  50870</td>\n",
       "      <td> 202.680229</td>\n",
       "      <td> -65.495989</td>\n",
       "    </tr>\n",
       "    <tr>\n",
       "      <th>46</th>\n",
       "      <td> 0</td>\n",
       "      <td> 0</td>\n",
       "      <td> 7</td>\n",
       "      <td>  13594</td>\n",
       "      <td> 478.431276</td>\n",
       "      <td> 593.083059</td>\n",
       "    </tr>\n",
       "    <tr>\n",
       "      <th>47</th>\n",
       "      <td> 0</td>\n",
       "      <td> 7</td>\n",
       "      <td> 1</td>\n",
       "      <td>   3811</td>\n",
       "      <td>  36.966169</td>\n",
       "      <td>  76.540854</td>\n",
       "    </tr>\n",
       "    <tr>\n",
       "      <th>48</th>\n",
       "      <td> 0</td>\n",
       "      <td> 7</td>\n",
       "      <td> 6</td>\n",
       "      <td>  12781</td>\n",
       "      <td> 236.176382</td>\n",
       "      <td> 509.965407</td>\n",
       "    </tr>\n",
       "    <tr>\n",
       "      <th>49</th>\n",
       "      <td> 0</td>\n",
       "      <td> 1</td>\n",
       "      <td> 0</td>\n",
       "      <td>   9295</td>\n",
       "      <td>  36.958474</td>\n",
       "      <td> -12.452760</td>\n",
       "    </tr>\n",
       "    <tr>\n",
       "      <th>50</th>\n",
       "      <td> 0</td>\n",
       "      <td> 5</td>\n",
       "      <td> 1</td>\n",
       "      <td>  11714</td>\n",
       "      <td> -81.110764</td>\n",
       "      <td> -25.417394</td>\n",
       "    </tr>\n",
       "    <tr>\n",
       "      <th>51</th>\n",
       "      <td> 0</td>\n",
       "      <td> 3</td>\n",
       "      <td> 5</td>\n",
       "      <td>  48391</td>\n",
       "      <td> 385.817080</td>\n",
       "      <td>-123.167288</td>\n",
       "    </tr>\n",
       "    <tr>\n",
       "      <th>52</th>\n",
       "      <td> 0</td>\n",
       "      <td> 2</td>\n",
       "      <td> 8</td>\n",
       "      <td>  29586</td>\n",
       "      <td>  91.372164</td>\n",
       "      <td> 995.816814</td>\n",
       "    </tr>\n",
       "    <tr>\n",
       "      <th>53</th>\n",
       "      <td> 0</td>\n",
       "      <td> 0</td>\n",
       "      <td> 4</td>\n",
       "      <td>   9854</td>\n",
       "      <td> 166.531067</td>\n",
       "      <td> 213.795238</td>\n",
       "    </tr>\n",
       "    <tr>\n",
       "      <th>54</th>\n",
       "      <td> 0</td>\n",
       "      <td> 3</td>\n",
       "      <td> 1</td>\n",
       "      <td>  20301</td>\n",
       "      <td>  80.887183</td>\n",
       "      <td> -26.120178</td>\n",
       "    </tr>\n",
       "    <tr>\n",
       "      <th>55</th>\n",
       "      <td> 0</td>\n",
       "      <td> 3</td>\n",
       "      <td> 6</td>\n",
       "      <td>  67186</td>\n",
       "      <td> 535.915371</td>\n",
       "      <td>-169.229771</td>\n",
       "    </tr>\n",
       "    <tr>\n",
       "      <th>56</th>\n",
       "      <td> 0</td>\n",
       "      <td> 4</td>\n",
       "      <td> 4</td>\n",
       "      <td>  26772</td>\n",
       "      <td>-212.102156</td>\n",
       "      <td> 168.682172</td>\n",
       "    </tr>\n",
       "    <tr>\n",
       "      <th>57</th>\n",
       "      <td> 0</td>\n",
       "      <td> 3</td>\n",
       "      <td> 7</td>\n",
       "      <td>  91160</td>\n",
       "      <td> 727.611060</td>\n",
       "      <td>-226.331935</td>\n",
       "    </tr>\n",
       "    <tr>\n",
       "      <th>58</th>\n",
       "      <td> 0</td>\n",
       "      <td> 9</td>\n",
       "      <td> 6</td>\n",
       "      <td>   5848</td>\n",
       "      <td> 487.636911</td>\n",
       "      <td> 279.381895</td>\n",
       "    </tr>\n",
       "    <tr>\n",
       "      <th>59</th>\n",
       "      <td> 0</td>\n",
       "      <td> 0</td>\n",
       "      <td> 6</td>\n",
       "      <td>  10102</td>\n",
       "      <td> 349.898441</td>\n",
       "      <td> 439.789815</td>\n",
       "    </tr>\n",
       "    <tr>\n",
       "      <th></th>\n",
       "      <td>...</td>\n",
       "      <td>...</td>\n",
       "      <td>...</td>\n",
       "      <td>...</td>\n",
       "      <td>...</td>\n",
       "      <td>...</td>\n",
       "    </tr>\n",
       "  </tbody>\n",
       "</table>\n",
       "<p>7559411 rows × 6 columns</p>\n",
       "</div>"
      ],
      "text/plain": [
       "    event_id  cluster_id  layer    iphi           x           y\n",
       "0          0           1      6   67181  535.840039 -169.468147\n",
       "1          0           2      7   22631   65.319563  759.195202\n",
       "2          0           4      1    8368  -66.070384   53.476203\n",
       "3          0           1      7   91140  727.313411 -227.286608\n",
       "4          0           2      4   16216   20.268475  270.240983\n",
       "5          0           3      2   37015  147.466204  -47.735927\n",
       "6          0           6      0    5132  -38.573229   -5.753784\n",
       "7          0           9      3    4338  185.982644  103.824160\n",
       "8          0           9      8   10655  861.414226  507.903073\n",
       "9          0           9      5    4177  352.333427  199.715188\n",
       "10         0           1      4   64730  257.932600  -83.137078\n",
       "11         0           1      8  119688  955.690631 -294.372923\n",
       "12         0           4      2   15284 -120.869271   97.034114\n",
       "13         0           5      8   68567 -959.168348 -282.835785\n",
       "14         0           7      3    9620   91.051402  192.558153\n",
       "15         0           2      5   12094   31.443203  403.777569\n",
       "16         0           0      2    5666   94.656900  122.739852\n",
       "17         0           1      1   20281   80.732137  -26.595526\n",
       "18         0           7      5    9186  171.305140  366.987124\n",
       "19         0           7      0    1728   17.423276   34.891682\n",
       "20         0           9      0     767   34.380556   18.411338\n",
       "21         0           5      3   29379 -203.064875  -64.293519\n",
       "22         0           1      5   48390  385.801871 -123.214919\n",
       "23         0           5      6   38674 -537.047354 -165.602354\n",
       "24         0           5      0    5357  -37.345753  -11.238092\n",
       "25         0           5      7   52351 -729.414033 -220.452192\n",
       "26         0           7      2    6986   66.585148  139.969347\n",
       "27         0           7      8   22899  413.094109  910.688343\n",
       "28         0           7      7   17385  317.691114  692.615591\n",
       "29         0           5      5   27903 -386.525253 -120.926544\n",
       "30         0           1      2   37004  147.381280  -47.997483\n",
       "31         0           9      1    1704   74.546686   40.838604\n",
       "32         0           5      4   37371 -258.418946  -81.612795\n",
       "33         0           9      2    3139  135.555414   75.164683\n",
       "34         0           3      4   64732  257.947935  -83.089488\n",
       "35         0           2      1    5093    6.188221   84.774441\n",
       "36         0           4      7   37884 -603.943751  464.646044\n",
       "37         0           9      7    8017  658.976048  382.615432\n",
       "38         0           4      6   27868 -443.192925  345.577822\n",
       "39         0           3      0    9322   37.168451  -11.811276\n",
       "40         0           2      3   12754   15.716876  212.419349\n",
       "41         0           8      0    7828   11.727857  -37.194857\n",
       "42         0           5      2   21378 -147.778648  -46.759717\n",
       "43         0           2      2    9286   11.314854  154.586462\n",
       "44         0           0      8   17680  634.064698  773.280000\n",
       "45         0           3      3   50870  202.680229  -65.495989\n",
       "46         0           0      7   13594  478.431276  593.083059\n",
       "47         0           7      1    3811   36.966169   76.540854\n",
       "48         0           7      6   12781  236.176382  509.965407\n",
       "49         0           1      0    9295   36.958474  -12.452760\n",
       "50         0           5      1   11714  -81.110764  -25.417394\n",
       "51         0           3      5   48391  385.817080 -123.167288\n",
       "52         0           2      8   29586   91.372164  995.816814\n",
       "53         0           0      4    9854  166.531067  213.795238\n",
       "54         0           3      1   20301   80.887183  -26.120178\n",
       "55         0           3      6   67186  535.915371 -169.229771\n",
       "56         0           4      4   26772 -212.102156  168.682172\n",
       "57         0           3      7   91160  727.611060 -226.331935\n",
       "58         0           9      6    5848  487.636911  279.381895\n",
       "59         0           0      6   10102  349.898441  439.789815\n",
       "         ...         ...    ...     ...         ...         ...\n",
       "\n",
       "[7559411 rows x 6 columns]"
      ]
     },
     "execution_count": 3,
     "metadata": {},
     "output_type": "execute_result"
    }
   ],
   "source": [
    "df"
   ]
  },
  {
   "cell_type": "code",
   "execution_count": 4,
   "metadata": {
    "collapsed": false
   },
   "outputs": [],
   "source": [
    "y = df.drop(['layer','iphi','x','y'], axis=1).values\n",
    "X = df.drop(['cluster_id'], axis=1).values"
   ]
  },
  {
   "cell_type": "markdown",
   "metadata": {},
   "source": [
    "(particle ids are shifted by 1000 times the event id, in order to make them unique across the dataset)"
   ]
  },
  {
   "cell_type": "code",
   "execution_count": 5,
   "metadata": {
    "collapsed": false
   },
   "outputs": [
    {
     "data": {
      "text/plain": [
       "7559411"
      ]
     },
     "execution_count": 5,
     "metadata": {},
     "output_type": "execute_result"
    }
   ],
   "source": [
    "len(X)"
   ]
  },
  {
   "cell_type": "markdown",
   "metadata": {},
   "source": [
    "### Looping over events"
   ]
  },
  {
   "cell_type": "code",
   "execution_count": 6,
   "metadata": {
    "collapsed": false
   },
   "outputs": [],
   "source": [
    "y_events = y[:,0]"
   ]
  },
  {
   "cell_type": "code",
   "execution_count": 7,
   "metadata": {
    "collapsed": false
   },
   "outputs": [],
   "source": [
    "events = np.unique(y_events)"
   ]
  },
  {
   "cell_type": "markdown",
   "metadata": {},
   "source": [
    "### Visualize the hits in a single event"
   ]
  },
  {
   "cell_type": "code",
   "execution_count": 13,
   "metadata": {
    "collapsed": false
   },
   "outputs": [],
   "source": [
    "ievent = 1\n",
    "event_indices = X[:,0]==ievent\n",
    "X_event = X[event_indices,1:]\n",
    "pixelx = X_event[:,2]\n",
    "pixely = X_event[:,3]\n",
    "particles = y[event_indices][:,1]"
   ]
  },
  {
   "cell_type": "markdown",
   "metadata": {},
   "source": [
    "#### Hits from all particles"
   ]
  },
  {
   "cell_type": "code",
   "execution_count": 14,
   "metadata": {
    "collapsed": false
   },
   "outputs": [
    {
     "data": {
      "image/png": "[encoded data removed]",
      "text/plain": [
       "<matplotlib.figure.Figure at 0x12455a950>"
      ]
     },
     "metadata": {},
     "output_type": "display_data"
    }
   ],
   "source": [
    "plt.scatter(pixelx,pixely)\n",
    "plt.axis('equal')\n",
    "plt.show()"
   ]
  },
  {
   "cell_type": "markdown",
   "metadata": {},
   "source": [
    "This is what the algorithm will see."
   ]
  },
  {
   "cell_type": "markdown",
   "metadata": {},
   "source": [
    "#### Hits from a single particle"
   ]
  },
  {
   "cell_type": "code",
   "execution_count": 16,
   "metadata": {
    "collapsed": false
   },
   "outputs": [
    {
     "data": {
      "image/png": "[encoded data removed]",
      "text/plain": [
       "<matplotlib.figure.Figure at 0x1108f6f90>"
      ]
     },
     "metadata": {},
     "output_type": "display_data"
    }
   ],
   "source": [
    "iparticle = 2\n",
    "hits_particle = (particles == iparticle)\n",
    "plt.scatter(pixelx[hits_particle],pixely[hits_particle])\n",
    "plt.axis('equal')\n",
    "plt.show()"
   ]
  },
  {
   "cell_type": "code",
   "execution_count": null,
   "metadata": {
    "collapsed": true
   },
   "outputs": [],
   "source": []
  },
  {
   "cell_type": "markdown",
   "metadata": {},
   "source": [
    "So, ideally, our algorithm wants to assign specific ids to all hits in a way that corresponds to the particle. The perfect algorithm will split the event into various tracks:"
   ]
  },
  {
   "cell_type": "code",
   "execution_count": 17,
   "metadata": {
    "collapsed": false
   },
   "outputs": [
    {
     "data": {
      "image/png": "[encoded data removed]",
      "text/plain": [
       "<matplotlib.figure.Figure at 0x1111eac90>"
      ]
     },
     "metadata": {},
     "output_type": "display_data"
    }
   ],
   "source": [
    "cmap = ['k','b','y','g','r','k','b']\n",
    "for iparticle in np.unique(particles):\n",
    "    hits_particle = (particles == iparticle)\n",
    "    plt.scatter(pixelx[hits_particle],pixely[hits_particle],color=cmap[int(iparticle) % 7])\n",
    "plt.show()"
   ]
  },
  {
   "cell_type": "code",
   "execution_count": null,
   "metadata": {
    "collapsed": true
   },
   "outputs": [],
   "source": []
  },
  {
   "cell_type": "markdown",
   "metadata": {},
   "source": [
    "### Matching the hits together"
   ]
  },
  {
   "cell_type": "code",
   "execution_count": 18,
   "metadata": {
    "collapsed": false
   },
   "outputs": [],
   "source": []
  },
  {
   "cell_type": "code",
   "execution_count": 13,
   "metadata": {
    "collapsed": true
   },
   "outputs": [],
   "source": [
    "\n"
   ]
  },
  {
   "cell_type": "markdown",
   "metadata": {},
   "source": [
    "Choose the tracking class that you want to use\n",
    "(in the submission, it has to be named HitToTrackAssignment in clusterer.py)"
   ]
  },
  {
   "cell_type": "code",
   "execution_count": 19,
   "metadata": {
    "collapsed": false
   },
   "outputs": [],
   "source": [
    "from clusterer import Clusterer\n",
    "tracker = Clusterer(0.8)"
   ]
  },
  {
   "cell_type": "code",
   "execution_count": null,
   "metadata": {
    "collapsed": false
   },
   "outputs": [],
   "source": []
  },
  {
   "cell_type": "code",
   "execution_count": null,
   "metadata": {
    "collapsed": true
   },
   "outputs": [],
   "source": []
  },
  {
   "cell_type": "code",
   "execution_count": null,
   "metadata": {
    "collapsed": false
   },
   "outputs": [],
   "source": []
  },
  {
   "cell_type": "markdown",
   "metadata": {},
   "source": [
    "#### Training the algorithm"
   ]
  },
  {
   "cell_type": "code",
   "execution_count": 20,
   "metadata": {
    "collapsed": false
   },
   "outputs": [],
   "source": [
    "tracker.fit(X, y)"
   ]
  },
  {
   "cell_type": "markdown",
   "metadata": {},
   "source": [
    "#### Running the algorithm to reconstruct the tracks in data\n",
    "This will take some time to go through all events"
   ]
  },
  {
   "cell_type": "code",
   "execution_count": null,
   "metadata": {
    "collapsed": false
   },
   "outputs": [],
   "source": [
    "y_true = y\n",
    "y_predicted = tracker.predict(X)"
   ]
  },
  {
   "cell_type": "markdown",
   "metadata": {},
   "source": [
    "Let's compare how well the tracks corresponds to the particles"
   ]
  },
  {
   "cell_type": "code",
   "execution_count": null,
   "metadata": {
    "collapsed": false
   },
   "outputs": [],
   "source": [
    "df_result = pd.DataFrame({'particle':y_true[event_indices,0],'track':y_predicted[event_indices]}).sort('particle')\n",
    "df_result"
   ]
  },
  {
   "cell_type": "code",
   "execution_count": null,
   "metadata": {
    "collapsed": false
   },
   "outputs": [],
   "source": [
    "tracks = y_predicted[event_indices]"
   ]
  },
  {
   "cell_type": "code",
   "execution_count": null,
   "metadata": {
    "collapsed": false
   },
   "outputs": [],
   "source": [
    "cmap = ['k','b','y','g','r']\n",
    "for itrack in np.unique(tracks):\n",
    "    if itrack >= 0:\n",
    "        hits_track = (tracks == itrack)\n",
    "        plt.scatter(pixelx[hits_track],pixely[hits_track],color=cmap[int(itrack) % 5])\n",
    "plt.show()"
   ]
  },
  {
   "cell_type": "code",
   "execution_count": null,
   "metadata": {
    "collapsed": false
   },
   "outputs": [],
   "source": [
    "cmap = ['k','b','y','g','r']\n",
    "itrack = -1\n",
    "hits_track = (tracks == itrack)\n",
    "plt.scatter(pixelx[hits_track],pixely[hits_track],color=cmap[int(itrack) % 5])\n",
    "plt.show()"
   ]
  },
  {
   "cell_type": "code",
   "execution_count": null,
   "metadata": {
    "collapsed": true
   },
   "outputs": [],
   "source": []
  },
  {
   "cell_type": "markdown",
   "metadata": {},
   "source": [
    "### Scoring the assignment"
   ]
  },
  {
   "cell_type": "markdown",
   "metadata": {},
   "source": [
    "The score function measures the fraction of hits with good track assignment"
   ]
  },
  {
   "cell_type": "code",
   "execution_count": null,
   "metadata": {
    "collapsed": true
   },
   "outputs": [],
   "source": [
    "def score_function(y_true, y_pred):\n",
    "    '''Compute a clustering score.\n",
    "\n",
    "    Cluster ids should be nonnegative integers. A negative integer\n",
    "    will mean that the corresponding point does not belong to any\n",
    "    cluster.\n",
    "\n",
    "    We first identify assigned clusters by taking the max count of \n",
    "    unique assigned ids for each true cluster. We remove all unassigned\n",
    "    clusters (all assigned ids are -1) and all duplicates (the same\n",
    "    assigned id has majority in several true clusters) except the one\n",
    "    with the largest count. We add the counts, then divide by the number\n",
    "    of events. The score should be between 0 and 1. \n",
    "\n",
    "    Parameters\n",
    "    ----------\n",
    "    y_true : np.array, shape = (n, 2)\n",
    "        The ground truth.\n",
    "        first column: event_id\n",
    "        second column: cluster_id\n",
    "    y_pred : np.array, shape = (n, 2)\n",
    "        The predicted cluster assignment.\n",
    "        first column: event_id\n",
    "        second column: predicted cluster_id\n",
    "    \"\"\"\n",
    "    '''\n",
    "    score = 0.\n",
    "    event_ids = y_true[:, 0]\n",
    "    y_true_cluster_ids = y_true[:, 1]\n",
    "    y_pred_cluster_ids = y_pred\n",
    "\n",
    "    unique_event_ids = np.unique(event_ids)\n",
    "    for event_id in unique_event_ids:\n",
    "        event_indices = (event_ids==event_id)\n",
    "        cluster_ids_true = y_true_cluster_ids[event_indices]\n",
    "        cluster_ids_pred = y_pred_cluster_ids[event_indices]\n",
    "\n",
    "        unique_cluster_ids = np.unique(cluster_ids_true)\n",
    "        n_cluster = len(unique_cluster_ids)\n",
    "        n_sample = len(cluster_ids_true)\n",
    "\n",
    "        # assigned_clusters[i] will be the predicted cluster id\n",
    "        # we assign (by majority) to true cluster i \n",
    "        assigned_clusters = np.empty(n_cluster, dtype='int64')\n",
    "        # true_positives[i] will be the number of points in \n",
    "        # predicted cluster[assigned_clusters[i]]\n",
    "        true_positives = np.full(n_cluster, fill_value=0, dtype='int64')\n",
    "        for i, cluster_id in enumerate(unique_cluster_ids):\n",
    "            # true points belonging to a cluster\n",
    "            true_points = cluster_ids_true[cluster_ids_true == cluster_id]\n",
    "            # predicted points belonging to a cluster\n",
    "            found_points = cluster_ids_pred[cluster_ids_true == cluster_id]\n",
    "            # nonnegative cluster_ids (negative ones are unassigned)\n",
    "            assigned_points = found_points[found_points >= 0]\n",
    "            # the unique nonnegative predicted cluster ids on true_cluster[i]\n",
    "            n_sub_cluster = len(np.unique(assigned_points))\n",
    "            # We find the largest predicted cluster in the true cluster.\n",
    "            if(n_sub_cluster > 0):\n",
    "                # sizes of predicted assigned cluster in true cluster[i]\n",
    "                predicted_cluster_sizes = np.bincount(\n",
    "                    assigned_points.astype(dtype='int64'))\n",
    "                # If there are ties, we assign the tre cluster to the predicted\n",
    "                # cluster with the smallest id (combined behavior of np.unique\n",
    "                # which sorts the ids and np.argmax which returns the first \n",
    "                # occurence of a tie).\n",
    "                assigned_clusters[i] = np.argmax(predicted_cluster_sizes)\n",
    "                true_positives[i] = len(\n",
    "                    found_points[found_points == assigned_clusters[i]])\n",
    "            # If none of the assigned ids are positive, the cluster is unassigned\n",
    "            # and true_positive = 0\n",
    "            else:\n",
    "                assigned_clusters[i] = -1\n",
    "                true_positives[i] = 0\n",
    "\n",
    "        # resolve duplicates and count good assignments\n",
    "        sorted = np.argsort(true_positives)\n",
    "        true_positives_sorted = true_positives[sorted]\n",
    "        assigned_clusters_sorted = assigned_clusters[sorted]\n",
    "        good_clusters = assigned_clusters_sorted >= 0\n",
    "        for i in range(len(assigned_clusters_sorted) - 1):\n",
    "            assigned_cluster = assigned_clusters_sorted[i]\n",
    "            # duplicates: only keep the last count (which is the largest\n",
    "            # because of sorting)\n",
    "            if assigned_cluster in assigned_clusters_sorted[i+1:]:\n",
    "                good_clusters[i] = False\n",
    "        n_good = np.sum(true_positives_sorted[good_clusters])\n",
    "        score += 1. * n_good / n_sample\n",
    "    score /= len(unique_event_ids)\n",
    "    return score\n"
   ]
  },
  {
   "cell_type": "code",
   "execution_count": null,
   "metadata": {
    "collapsed": false
   },
   "outputs": [],
   "source": [
    "len(y_events)"
   ]
  },
  {
   "cell_type": "code",
   "execution_count": null,
   "metadata": {
    "collapsed": false
   },
   "outputs": [],
   "source": [
    "y_test = np.zeros((len(y_events),2))\n",
    "y_pred = np.zeros((len(y_events),2))\n",
    "\n",
    "y_test = y_true\n",
    "\n",
    "y_pred[:,1] = y_events\n",
    "y_pred[:,0] = y_predicted\n",
    "\n",
    "score(y_test,y_pred)"
   ]
  },
  {
   "cell_type": "markdown",
   "metadata": {
    "collapsed": true
   },
   "source": [
    "Check the score of a single event, \n",
    "if you want to debug what's happening in that event"
   ]
  },
  {
   "cell_type": "code",
   "execution_count": null,
   "metadata": {
    "collapsed": false
   },
   "outputs": [],
   "source": [
    "score(y_test[y_test[:,0]==ievent],y_pred[y_test[:,0]==ievent])"
   ]
  },
  {
   "cell_type": "code",
   "execution_count": null,
   "metadata": {
    "collapsed": true
   },
   "outputs": [],
   "source": []
  },
  {
   "cell_type": "code",
   "execution_count": null,
   "metadata": {
    "collapsed": true
   },
   "outputs": [],
   "source": []
  },
  {
   "cell_type": "markdown",
   "metadata": {},
   "source": [
    "### Fitting the tracks (beyond the challenge)"
   ]
  },
  {
   "cell_type": "code",
   "execution_count": null,
   "metadata": {
    "collapsed": true
   },
   "outputs": [],
   "source": []
  },
  {
   "cell_type": "code",
   "execution_count": null,
   "metadata": {
    "collapsed": true
   },
   "outputs": [],
   "source": []
  },
  {
   "cell_type": "code",
   "execution_count": null,
   "metadata": {
    "collapsed": true
   },
   "outputs": [],
   "source": []
  },
  {
   "cell_type": "code",
   "execution_count": null,
   "metadata": {
    "collapsed": true
   },
   "outputs": [],
   "source": []
  }
 ],
 "metadata": {
  "kernelspec": {
   "display_name": "Python 2",
   "language": "python",
   "name": "python2"
  },
  "language_info": {
   "codemirror_mode": {
    "name": "ipython",
    "version": 2
   },
   "file_extension": ".py",
   "mimetype": "text/x-python",
   "name": "python",
   "nbconvert_exporter": "python",
   "pygments_lexer": "ipython2",
   "version": "2.7.6"
  }
 },
 "nbformat": 4,
 "nbformat_minor": 2
}

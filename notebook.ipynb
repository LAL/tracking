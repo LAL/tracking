{
 "cells": [
  {
   "cell_type": "code",
   "execution_count": 1,
   "metadata": {
    "collapsed": false
   },
   "outputs": [],
   "source": [
    "import Generate as gen"
   ]
  },
  {
   "cell_type": "code",
   "execution_count": 2,
   "metadata": {
    "collapsed": true
   },
   "outputs": [],
   "source": [
    "import Reconstruct as reco"
   ]
  },
  {
   "cell_type": "code",
   "execution_count": 3,
   "metadata": {
    "collapsed": true
   },
   "outputs": [],
   "source": [
    "import pandas as pd\n",
    "import numpy as np\n",
    "import matplotlib.pyplot as plt"
   ]
  },
  {
   "cell_type": "code",
   "execution_count": 4,
   "metadata": {
    "collapsed": false
   },
   "outputs": [
    {
     "name": "stdout",
     "output_type": "stream",
     "text": [
      "          position   t\n",
      "0  [0.0, 0.0, 0.0]  22\n",
      "\n",
      "[1 rows x 2 columns]\n"
     ]
    }
   ],
   "source": [
    "s = gen.Simulator()"
   ]
  },
  {
   "cell_type": "code",
   "execution_count": 5,
   "metadata": {
    "collapsed": false
   },
   "outputs": [
    {
     "name": "stdout",
     "output_type": "stream",
     "text": [
      "New planet\n",
      "            position   t\n",
      "0  [20.0, 30.0, 0.0]  22\n",
      "\n",
      "[1 rows x 2 columns]\n"
     ]
    }
   ],
   "source": [
    "orb = s.propagate(x=[20.,30.],v=[0.4,-0.6])"
   ]
  },
  {
   "cell_type": "code",
   "execution_count": 6,
   "metadata": {
    "collapsed": false
   },
   "outputs": [],
   "source": [
    "astr = reco.Tracking()"
   ]
  },
  {
   "cell_type": "code",
   "execution_count": null,
   "metadata": {
    "collapsed": false
   },
   "outputs": [],
   "source": []
  },
  {
   "cell_type": "code",
   "execution_count": 7,
   "metadata": {
    "collapsed": false
   },
   "outputs": [],
   "source": [
    "hits = orb['position'].values"
   ]
  },
  {
   "cell_type": "code",
   "execution_count": null,
   "metadata": {
    "collapsed": false
   },
   "outputs": [],
   "source": []
  },
  {
   "cell_type": "code",
   "execution_count": 8,
   "metadata": {
    "collapsed": false
   },
   "outputs": [
    {
     "data": {
      "text/html": [
       "<div style=\"max-height:1000px;max-width:1500px;overflow:auto;\">\n",
       "<table border=\"1\" class=\"dataframe\">\n",
       "  <thead>\n",
       "    <tr style=\"text-align: right;\">\n",
       "      <th></th>\n",
       "      <th>position</th>\n",
       "      <th>t</th>\n",
       "    </tr>\n",
       "  </thead>\n",
       "  <tbody>\n",
       "    <tr>\n",
       "      <th>0 </th>\n",
       "      <td>              [20.4024, 29.4016, 0.0]</td>\n",
       "      <td>  0</td>\n",
       "    </tr>\n",
       "    <tr>\n",
       "      <th>1 </th>\n",
       "      <td>        [20.8071936, 28.8048096, 0.0]</td>\n",
       "      <td>  1</td>\n",
       "    </tr>\n",
       "    <tr>\n",
       "      <th>2 </th>\n",
       "      <td>  [21.2143743616, 28.2096383744, 0.0]</td>\n",
       "      <td>  2</td>\n",
       "    </tr>\n",
       "    <tr>\n",
       "      <th>3 </th>\n",
       "      <td>  [21.6239358081, 27.6160958718, 0.0]</td>\n",
       "      <td>  3</td>\n",
       "    </tr>\n",
       "    <tr>\n",
       "      <th>4 </th>\n",
       "      <td>  [22.0358714246, 27.0241916151, 0.0]</td>\n",
       "      <td>  4</td>\n",
       "    </tr>\n",
       "    <tr>\n",
       "      <th>5 </th>\n",
       "      <td>  [22.4501746582, 26.4339351008, 0.0]</td>\n",
       "      <td>  5</td>\n",
       "    </tr>\n",
       "    <tr>\n",
       "      <th>6 </th>\n",
       "      <td>  [22.8668389178, 25.8453357994, 0.0]</td>\n",
       "      <td>  6</td>\n",
       "    </tr>\n",
       "    <tr>\n",
       "      <th>7 </th>\n",
       "      <td>  [23.2858575746, 25.2584031551, 0.0]</td>\n",
       "      <td>  7</td>\n",
       "    </tr>\n",
       "    <tr>\n",
       "      <th>8 </th>\n",
       "      <td>  [23.7072239619, 24.6731465854, 0.0]</td>\n",
       "      <td>  8</td>\n",
       "    </tr>\n",
       "    <tr>\n",
       "      <th>9 </th>\n",
       "      <td>  [24.1309313756, 24.0895754812, 0.0]</td>\n",
       "      <td>  9</td>\n",
       "    </tr>\n",
       "    <tr>\n",
       "      <th>10</th>\n",
       "      <td>  [24.5569730737, 23.5076992067, 0.0]</td>\n",
       "      <td> 10</td>\n",
       "    </tr>\n",
       "    <tr>\n",
       "      <th>11</th>\n",
       "      <td>   [24.9853422768, 22.927527099, 0.0]</td>\n",
       "      <td> 11</td>\n",
       "    </tr>\n",
       "    <tr>\n",
       "      <th>12</th>\n",
       "      <td>  [25.4160321684, 22.3490684681, 0.0]</td>\n",
       "      <td> 12</td>\n",
       "    </tr>\n",
       "    <tr>\n",
       "      <th>13</th>\n",
       "      <td>  [25.8490358946, 21.7723325968, 0.0]</td>\n",
       "      <td> 13</td>\n",
       "    </tr>\n",
       "    <tr>\n",
       "      <th>14</th>\n",
       "      <td>  [26.2843465642, 21.1973287404, 0.0]</td>\n",
       "      <td> 14</td>\n",
       "    </tr>\n",
       "    <tr>\n",
       "      <th>15</th>\n",
       "      <td>  [26.7219572492, 20.6240661266, 0.0]</td>\n",
       "      <td> 15</td>\n",
       "    </tr>\n",
       "    <tr>\n",
       "      <th>16</th>\n",
       "      <td>  [27.1618609847, 20.0525539556, 0.0]</td>\n",
       "      <td> 16</td>\n",
       "    </tr>\n",
       "    <tr>\n",
       "      <th>17</th>\n",
       "      <td>  [27.6040507689, 19.4828013996, 0.0]</td>\n",
       "      <td> 17</td>\n",
       "    </tr>\n",
       "    <tr>\n",
       "      <th>18</th>\n",
       "      <td>  [28.0485195633, 18.9148176027, 0.0]</td>\n",
       "      <td> 18</td>\n",
       "    </tr>\n",
       "    <tr>\n",
       "      <th>19</th>\n",
       "      <td>  [28.4952602929, 18.3486116809, 0.0]</td>\n",
       "      <td> 19</td>\n",
       "    </tr>\n",
       "    <tr>\n",
       "      <th>20</th>\n",
       "      <td>  [28.9442658462, 17.7841927221, 0.0]</td>\n",
       "      <td> 20</td>\n",
       "    </tr>\n",
       "    <tr>\n",
       "      <th>21</th>\n",
       "      <td>  [29.3955290753, 17.2215697855, 0.0]</td>\n",
       "      <td> 21</td>\n",
       "    </tr>\n",
       "    <tr>\n",
       "      <th>22</th>\n",
       "      <td>  [29.8490427961, 16.6607519018, 0.0]</td>\n",
       "      <td> 22</td>\n",
       "    </tr>\n",
       "    <tr>\n",
       "      <th>23</th>\n",
       "      <td>  [30.3047997885, 16.1017480729, 0.0]</td>\n",
       "      <td> 23</td>\n",
       "    </tr>\n",
       "    <tr>\n",
       "      <th>24</th>\n",
       "      <td>  [30.7627927962, 15.5445672721, 0.0]</td>\n",
       "      <td> 24</td>\n",
       "    </tr>\n",
       "    <tr>\n",
       "      <th>25</th>\n",
       "      <td>  [31.2230145271, 14.9892184433, 0.0]</td>\n",
       "      <td> 25</td>\n",
       "    </tr>\n",
       "    <tr>\n",
       "      <th>26</th>\n",
       "      <td>  [31.6854576534, 14.4357105014, 0.0]</td>\n",
       "      <td> 26</td>\n",
       "    </tr>\n",
       "    <tr>\n",
       "      <th>27</th>\n",
       "      <td>   [32.1501148114, 13.884052332, 0.0]</td>\n",
       "      <td> 27</td>\n",
       "    </tr>\n",
       "    <tr>\n",
       "      <th>28</th>\n",
       "      <td>   [32.616978602, 13.3342527913, 0.0]</td>\n",
       "      <td> 28</td>\n",
       "    </tr>\n",
       "    <tr>\n",
       "      <th>29</th>\n",
       "      <td>  [33.0860415909, 12.7863207057, 0.0]</td>\n",
       "      <td> 29</td>\n",
       "    </tr>\n",
       "    <tr>\n",
       "      <th>30</th>\n",
       "      <td>    [33.557296308, 12.240264872, 0.0]</td>\n",
       "      <td> 30</td>\n",
       "    </tr>\n",
       "    <tr>\n",
       "      <th>31</th>\n",
       "      <td>  [34.0307352486, 11.6960940573, 0.0]</td>\n",
       "      <td> 31</td>\n",
       "    </tr>\n",
       "    <tr>\n",
       "      <th>32</th>\n",
       "      <td>  [34.5063508723, 11.1538169983, 0.0]</td>\n",
       "      <td> 32</td>\n",
       "    </tr>\n",
       "    <tr>\n",
       "      <th>33</th>\n",
       "      <td>  [34.9841356043, 10.6134424017, 0.0]</td>\n",
       "      <td> 33</td>\n",
       "    </tr>\n",
       "    <tr>\n",
       "      <th>34</th>\n",
       "      <td>  [35.4640818347, 10.0749789442, 0.0]</td>\n",
       "      <td> 34</td>\n",
       "    </tr>\n",
       "    <tr>\n",
       "      <th>35</th>\n",
       "      <td>    [35.946181919, 9.5384352715, 0.0]</td>\n",
       "      <td> 35</td>\n",
       "    </tr>\n",
       "    <tr>\n",
       "      <th>36</th>\n",
       "      <td>  [36.4304281779, 9.00381999917, 0.0]</td>\n",
       "      <td> 36</td>\n",
       "    </tr>\n",
       "    <tr>\n",
       "      <th>37</th>\n",
       "      <td>  [36.9168128979, 8.47114171188, 0.0]</td>\n",
       "      <td> 37</td>\n",
       "    </tr>\n",
       "    <tr>\n",
       "      <th>38</th>\n",
       "      <td>   [37.405328331, 7.94040896348, 0.0]</td>\n",
       "      <td> 38</td>\n",
       "    </tr>\n",
       "    <tr>\n",
       "      <th>39</th>\n",
       "      <td>   [37.8959666952, 7.4116302768, 0.0]</td>\n",
       "      <td> 39</td>\n",
       "    </tr>\n",
       "    <tr>\n",
       "      <th>40</th>\n",
       "      <td>  [38.3887201741, 6.88481414358, 0.0]</td>\n",
       "      <td> 40</td>\n",
       "    </tr>\n",
       "    <tr>\n",
       "      <th>41</th>\n",
       "      <td>  [38.8835809175, 6.35996902428, 0.0]</td>\n",
       "      <td> 41</td>\n",
       "    </tr>\n",
       "    <tr>\n",
       "      <th>42</th>\n",
       "      <td>  [39.3805410414, 5.83710334795, 0.0]</td>\n",
       "      <td> 42</td>\n",
       "    </tr>\n",
       "    <tr>\n",
       "      <th>43</th>\n",
       "      <td>   [39.879592628, 5.31622551211, 0.0]</td>\n",
       "      <td> 43</td>\n",
       "    </tr>\n",
       "    <tr>\n",
       "      <th>44</th>\n",
       "      <td>   [40.380727726, 4.79734388262, 0.0]</td>\n",
       "      <td> 44</td>\n",
       "    </tr>\n",
       "    <tr>\n",
       "      <th>45</th>\n",
       "      <td>  [40.8839383504, 4.28046679353, 0.0]</td>\n",
       "      <td> 45</td>\n",
       "    </tr>\n",
       "    <tr>\n",
       "      <th>46</th>\n",
       "      <td>  [41.3892164832, 3.76560254693, 0.0]</td>\n",
       "      <td> 46</td>\n",
       "    </tr>\n",
       "    <tr>\n",
       "      <th>47</th>\n",
       "      <td>  [41.8965540731, 3.25275941286, 0.0]</td>\n",
       "      <td> 47</td>\n",
       "    </tr>\n",
       "    <tr>\n",
       "      <th>48</th>\n",
       "      <td>  [42.4059430354, 2.74194562915, 0.0]</td>\n",
       "      <td> 48</td>\n",
       "    </tr>\n",
       "    <tr>\n",
       "      <th>49</th>\n",
       "      <td>   [42.9173752529, 2.2331694013, 0.0]</td>\n",
       "      <td> 49</td>\n",
       "    </tr>\n",
       "    <tr>\n",
       "      <th>50</th>\n",
       "      <td>  [43.4308425753, 1.72643890231, 0.0]</td>\n",
       "      <td> 50</td>\n",
       "    </tr>\n",
       "    <tr>\n",
       "      <th>51</th>\n",
       "      <td>  [43.9463368197, 1.22176227261, 0.0]</td>\n",
       "      <td> 51</td>\n",
       "    </tr>\n",
       "    <tr>\n",
       "      <th>52</th>\n",
       "      <td> [44.4638497706, 0.719147619888, 0.0]</td>\n",
       "      <td> 52</td>\n",
       "    </tr>\n",
       "    <tr>\n",
       "      <th>53</th>\n",
       "      <td>  [44.9833731801, 0.21860301897, 0.0]</td>\n",
       "      <td> 53</td>\n",
       "    </tr>\n",
       "    <tr>\n",
       "      <th>54</th>\n",
       "      <td> [45.504898768, -0.279863488309, 0.0]</td>\n",
       "      <td> 54</td>\n",
       "    </tr>\n",
       "    <tr>\n",
       "      <th>55</th>\n",
       "      <td> [46.028418222, -0.776243893237, 0.0]</td>\n",
       "      <td> 55</td>\n",
       "    </tr>\n",
       "    <tr>\n",
       "      <th>56</th>\n",
       "      <td> [46.5539231976, -1.27053022035, 0.0]</td>\n",
       "      <td> 56</td>\n",
       "    </tr>\n",
       "    <tr>\n",
       "      <th>57</th>\n",
       "      <td> [47.0814053184, -1.76271452756, 0.0]</td>\n",
       "      <td> 57</td>\n",
       "    </tr>\n",
       "    <tr>\n",
       "      <th>58</th>\n",
       "      <td> [47.6108561765, -2.25278890629, 0.0]</td>\n",
       "      <td> 58</td>\n",
       "    </tr>\n",
       "    <tr>\n",
       "      <th>59</th>\n",
       "      <td> [48.1422673322, -2.74074548158, 0.0]</td>\n",
       "      <td> 59</td>\n",
       "    </tr>\n",
       "    <tr>\n",
       "      <th></th>\n",
       "      <td>...</td>\n",
       "      <td>...</td>\n",
       "    </tr>\n",
       "  </tbody>\n",
       "</table>\n",
       "<p>100 rows × 2 columns</p>\n",
       "</div>"
      ],
      "text/plain": [
       "                                position   t\n",
       "0                [20.4024, 29.4016, 0.0]   0\n",
       "1          [20.8071936, 28.8048096, 0.0]   1\n",
       "2    [21.2143743616, 28.2096383744, 0.0]   2\n",
       "3    [21.6239358081, 27.6160958718, 0.0]   3\n",
       "4    [22.0358714246, 27.0241916151, 0.0]   4\n",
       "5    [22.4501746582, 26.4339351008, 0.0]   5\n",
       "6    [22.8668389178, 25.8453357994, 0.0]   6\n",
       "7    [23.2858575746, 25.2584031551, 0.0]   7\n",
       "8    [23.7072239619, 24.6731465854, 0.0]   8\n",
       "9    [24.1309313756, 24.0895754812, 0.0]   9\n",
       "10   [24.5569730737, 23.5076992067, 0.0]  10\n",
       "11    [24.9853422768, 22.927527099, 0.0]  11\n",
       "12   [25.4160321684, 22.3490684681, 0.0]  12\n",
       "13   [25.8490358946, 21.7723325968, 0.0]  13\n",
       "14   [26.2843465642, 21.1973287404, 0.0]  14\n",
       "15   [26.7219572492, 20.6240661266, 0.0]  15\n",
       "16   [27.1618609847, 20.0525539556, 0.0]  16\n",
       "17   [27.6040507689, 19.4828013996, 0.0]  17\n",
       "18   [28.0485195633, 18.9148176027, 0.0]  18\n",
       "19   [28.4952602929, 18.3486116809, 0.0]  19\n",
       "20   [28.9442658462, 17.7841927221, 0.0]  20\n",
       "21   [29.3955290753, 17.2215697855, 0.0]  21\n",
       "22   [29.8490427961, 16.6607519018, 0.0]  22\n",
       "23   [30.3047997885, 16.1017480729, 0.0]  23\n",
       "24   [30.7627927962, 15.5445672721, 0.0]  24\n",
       "25   [31.2230145271, 14.9892184433, 0.0]  25\n",
       "26   [31.6854576534, 14.4357105014, 0.0]  26\n",
       "27    [32.1501148114, 13.884052332, 0.0]  27\n",
       "28    [32.616978602, 13.3342527913, 0.0]  28\n",
       "29   [33.0860415909, 12.7863207057, 0.0]  29\n",
       "30     [33.557296308, 12.240264872, 0.0]  30\n",
       "31   [34.0307352486, 11.6960940573, 0.0]  31\n",
       "32   [34.5063508723, 11.1538169983, 0.0]  32\n",
       "33   [34.9841356043, 10.6134424017, 0.0]  33\n",
       "34   [35.4640818347, 10.0749789442, 0.0]  34\n",
       "35     [35.946181919, 9.5384352715, 0.0]  35\n",
       "36   [36.4304281779, 9.00381999917, 0.0]  36\n",
       "37   [36.9168128979, 8.47114171188, 0.0]  37\n",
       "38    [37.405328331, 7.94040896348, 0.0]  38\n",
       "39    [37.8959666952, 7.4116302768, 0.0]  39\n",
       "40   [38.3887201741, 6.88481414358, 0.0]  40\n",
       "41   [38.8835809175, 6.35996902428, 0.0]  41\n",
       "42   [39.3805410414, 5.83710334795, 0.0]  42\n",
       "43    [39.879592628, 5.31622551211, 0.0]  43\n",
       "44    [40.380727726, 4.79734388262, 0.0]  44\n",
       "45   [40.8839383504, 4.28046679353, 0.0]  45\n",
       "46   [41.3892164832, 3.76560254693, 0.0]  46\n",
       "47   [41.8965540731, 3.25275941286, 0.0]  47\n",
       "48   [42.4059430354, 2.74194562915, 0.0]  48\n",
       "49    [42.9173752529, 2.2331694013, 0.0]  49\n",
       "50   [43.4308425753, 1.72643890231, 0.0]  50\n",
       "51   [43.9463368197, 1.22176227261, 0.0]  51\n",
       "52  [44.4638497706, 0.719147619888, 0.0]  52\n",
       "53   [44.9833731801, 0.21860301897, 0.0]  53\n",
       "54  [45.504898768, -0.279863488309, 0.0]  54\n",
       "55  [46.028418222, -0.776243893237, 0.0]  55\n",
       "56  [46.5539231976, -1.27053022035, 0.0]  56\n",
       "57  [47.0814053184, -1.76271452756, 0.0]  57\n",
       "58  [47.6108561765, -2.25278890629, 0.0]  58\n",
       "59  [48.1422673322, -2.74074548158, 0.0]  59\n",
       "                                     ... ...\n",
       "\n",
       "[100 rows x 2 columns]"
      ]
     },
     "execution_count": 8,
     "metadata": {},
     "output_type": "execute_result"
    }
   ],
   "source": [
    "s.p.history"
   ]
  },
  {
   "cell_type": "code",
   "execution_count": 11,
   "metadata": {
    "collapsed": false
   },
   "outputs": [
    {
     "data": {
      "image/png": "[encoded data removed]",
      "text/plain": [
       "<matplotlib.figure.Figure at 0x1096b5050>"
      ]
     },
     "metadata": {},
     "output_type": "display_data"
    }
   ],
   "source": [
    "s.plot()"
   ]
  },
  {
   "cell_type": "code",
   "execution_count": null,
   "metadata": {
    "collapsed": false
   },
   "outputs": [],
   "source": []
  },
  {
   "cell_type": "code",
   "execution_count": null,
   "metadata": {
    "collapsed": false
   },
   "outputs": [],
   "source": []
  },
  {
   "cell_type": "code",
   "execution_count": 37,
   "metadata": {
    "collapsed": false
   },
   "outputs": [
    {
     "data": {
      "image/png": "[encoded data removed]",
      "text/plain": [
       "<matplotlib.figure.Figure at 0x109d64850>"
      ]
     },
     "metadata": {},
     "output_type": "display_data"
    }
   ],
   "source": [
    "hits=pd.read_csv(\"test.csv\")\n",
    "plt.scatter(hits['x'].values,hits['y'].values)\n",
    "plt.show()"
   ]
  },
  {
   "cell_type": "code",
   "execution_count": null,
   "metadata": {
    "collapsed": true
   },
   "outputs": [],
   "source": []
  },
  {
   "cell_type": "code",
   "execution_count": null,
   "metadata": {
    "collapsed": true
   },
   "outputs": [],
   "source": []
  }
 ],
 "metadata": {
  "kernelspec": {
   "display_name": "Python 2",
   "language": "python",
   "name": "python2"
  },
  "language_info": {
   "codemirror_mode": {
    "name": "ipython",
    "version": 2
   },
   "file_extension": ".py",
   "mimetype": "text/x-python",
   "name": "python",
   "nbconvert_exporter": "python",
   "pygments_lexer": "ipython2",
   "version": "2.7.6"
  }
 },
 "nbformat": 4,
 "nbformat_minor": 2
}

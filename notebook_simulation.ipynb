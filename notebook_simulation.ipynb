{
 "cells": [
  {
   "cell_type": "code",
   "execution_count": 1,
   "metadata": {
    "collapsed": false
   },
   "outputs": [
    {
     "name": "stderr",
     "output_type": "stream",
     "text": [
      "//anaconda/lib/python2.7/site-packages/matplotlib/font_manager.py:273: UserWarning: Matplotlib is building the font cache using fc-list. This may take a moment.\n",
      "  warnings.warn('Matplotlib is building the font cache using fc-list. This may take a moment.')\n"
     ]
    }
   ],
   "source": [
    "%matplotlib inline\n",
    "\n",
    "import numpy as np\n",
    "import matplotlib.pyplot as plt\n",
    "from Simulate import *\n",
    "sim = Simulator()"
   ]
  },
  {
   "cell_type": "code",
   "execution_count": 2,
   "metadata": {
    "collapsed": false
   },
   "outputs": [],
   "source": [
    "sim.detector.reset()"
   ]
  },
  {
   "cell_type": "code",
   "execution_count": 3,
   "metadata": {
    "collapsed": false
   },
   "outputs": [
    {
     "name": "stderr",
     "output_type": "stream",
     "text": [
      "Simulate.py:154: FutureWarning: sort(columns=....) is deprecated, use sort_values(by=.....)\n",
      "  self.history=self.history.sort(['particle','layer','hit'])\n"
     ]
    }
   ],
   "source": [
    "a = 0.6\n",
    "v = 0.02\n",
    "position = a*(2.*np.random.random(2)-[1.,1.])\n",
    "velocity = v*(2.*np.random.random(2)-[1.,1.])\n",
    "\n",
    "position = [0.,0.]\n",
    "velocity = [0.05,0.001]\n",
    "\n",
    "pt=np.linalg.norm(velocity)\n",
    "phi=np.arctan2(velocity[1],velocity[0])\n",
    "xVtx=position[0]\n",
    "yVtx=position[1]\n",
    "\n",
    "simtrack1=sim.propagate_direct([0.5,0.5],[2.,0.1],id=0)\n",
    "simtrack2=sim.propagate_direct([0.2,0.2],[-0.1,2], id=1)\n",
    "simtrack3=sim.propagate_direct([0.,0.],[-1,.1], id=2)\n",
    "simtrack4=sim.propagate_direct([0.,0.],[0.1,-0.5], id=3)\n",
    "\n",
    "hits=sim.detector.getHits()"
   ]
  },
  {
   "cell_type": "raw",
   "metadata": {
    "collapsed": false
   },
   "source": [
    "hits"
   ]
  },
  {
   "cell_type": "code",
   "execution_count": 4,
   "metadata": {
    "collapsed": false
   },
   "outputs": [
    {
     "data": {
      "text/plain": [
       "array([ 0.50909937,  0.57238118,  0.57735297,  0.64876309,  0.76058145,\n",
       "        0.69868836,  0.72918795,  0.70730829,  0.72926275,  0.83052642,\n",
       "        0.90293906,  1.03837399,  0.81972678,  1.24589625,  1.66650744,\n",
       "        2.07913975,  2.48331133,  2.89761706,  3.30007886,  3.70529394,\n",
       "        4.1201656 ,  4.5415765 ,  4.96251775,  5.39230596,  0.01413649,\n",
       "       -0.00628316, -0.02408471, -0.01047193,  0.03926829,  0.07696009,\n",
       "        0.11098243,  0.16488044,  0.09947432,  0.0374369 , -0.14449314,\n",
       "       -0.35370093, -0.77953669, -1.05032991, -1.21135744, -1.25923391,\n",
       "       -1.14894965, -0.40007315,  0.67185536,  1.97741907])"
      ]
     },
     "execution_count": 4,
     "metadata": {},
     "output_type": "execute_result"
    }
   ],
   "source": [
    "x=hits['x'].values\n",
    "y=hits['y'].values\n",
    "x\n",
    "y\n"
   ]
  },
  {
   "cell_type": "code",
   "execution_count": 5,
   "metadata": {
    "collapsed": false
   },
   "outputs": [
    {
     "data": {
      "image/png": "[encoded data removed]",
      "text/plain": [
       "<matplotlib.figure.Figure at 0x1142f7110>"
      ]
     },
     "metadata": {},
     "output_type": "display_data"
    }
   ],
   "source": [
    "plt.scatter(x,y)\n",
    "plt.axis('equal')\n",
    "\n",
    "axes = plt.gca()\n",
    "axes.set_xlim([-6,6])\n",
    "axes.set_ylim([-6,6])\n",
    "\n",
    "plt.show()"
   ]
  },
  {
   "cell_type": "code",
   "execution_count": 6,
   "metadata": {
    "collapsed": false
   },
   "outputs": [
    {
     "data": {
      "image/png": "[encoded data removed]",
      "text/plain": [
       "<matplotlib.figure.Figure at 0x1142f7510>"
      ]
     },
     "metadata": {},
     "output_type": "display_data"
    }
   ],
   "source": [
    "plt.plot(simtrack1['x'].values,simtrack1['y'].values)\n",
    "plt.plot(simtrack2['x'].values,simtrack2['y'].values)\n",
    "plt.plot(simtrack3['x'].values,simtrack3['y'].values)\n",
    "plt.plot(simtrack4['x'].values,simtrack4['y'].values)\n",
    "\n",
    "plt.scatter(x,y)\n",
    "plt.axis('equal')\n",
    "\n",
    "axes = plt.gca()\n",
    "#axes.set_xlim([-2,2])\n",
    "#axes.set_ylim([-2,2])\n",
    "\n",
    "plt.show()"
   ]
  },
  {
   "cell_type": "code",
   "execution_count": 7,
   "metadata": {
    "collapsed": false
   },
   "outputs": [
    {
     "data": {
      "text/plain": [
       "0     0.659621\n",
       "1     1.111102\n",
       "2     1.563429\n",
       "3     1.979484\n",
       "4     2.381272\n",
       "5     2.831501\n",
       "6     3.252454\n",
       "7     3.682566\n",
       "8     4.102093\n",
       "9     4.507013\n",
       "10    4.917270\n",
       "11    5.316051\n",
       "Name: x, dtype: float64"
      ]
     },
     "execution_count": 7,
     "metadata": {},
     "output_type": "execute_result"
    }
   ],
   "source": [
    "simtrack1['x']"
   ]
  },
  {
   "cell_type": "code",
   "execution_count": null,
   "metadata": {
    "collapsed": true
   },
   "outputs": [],
   "source": []
  },
  {
   "cell_type": "code",
   "execution_count": 8,
   "metadata": {
    "collapsed": false
   },
   "outputs": [
    {
     "data": {
      "image/png": "[encoded data removed]",
      "text/plain": [
       "<matplotlib.figure.Figure at 0x1142d8650>"
      ]
     },
     "metadata": {},
     "output_type": "display_data"
    }
   ],
   "source": [
    "sim.plot()"
   ]
  },
  {
   "cell_type": "code",
   "execution_count": 9,
   "metadata": {
    "collapsed": false
   },
   "outputs": [
    {
     "data": {
      "text/plain": [
       "array([ 0.83333333,  1.25      ,  1.66666667,  2.08333333,  2.5       ,\n",
       "        2.91666667,  3.33333333,  3.75      ,  4.16666667,  4.58333333,\n",
       "        5.        ,  5.41666667])"
      ]
     },
     "execution_count": 9,
     "metadata": {},
     "output_type": "execute_result"
    }
   ],
   "source": [
    "sim.detector.cells_r"
   ]
  },
  {
   "cell_type": "code",
   "execution_count": null,
   "metadata": {
    "collapsed": false
   },
   "outputs": [],
   "source": []
  },
  {
   "cell_type": "code",
   "execution_count": 10,
   "metadata": {
    "collapsed": true
   },
   "outputs": [],
   "source": [
    "from Fitting import *"
   ]
  },
  {
   "cell_type": "code",
   "execution_count": 11,
   "metadata": {
    "collapsed": false
   },
   "outputs": [],
   "source": [
    "particle_df = hits.loc[hits['particle']==0]"
   ]
  },
  {
   "cell_type": "code",
   "execution_count": 12,
   "metadata": {
    "collapsed": true
   },
   "outputs": [],
   "source": [
    "x=particle_df['x'].values\n",
    "y=particle_df['y'].values"
   ]
  },
  {
   "cell_type": "code",
   "execution_count": 13,
   "metadata": {
    "collapsed": true
   },
   "outputs": [],
   "source": [
    "fitter = TrackFitter(B=1.)"
   ]
  },
  {
   "cell_type": "code",
   "execution_count": 14,
   "metadata": {
    "collapsed": false
   },
   "outputs": [
    {
     "data": {
      "text/plain": [
       "(array([ 0.6597441 ,  1.11125145,  1.56347092,  1.97974348,  2.38149446,\n",
       "         2.83174487,  3.25259835,  3.68269127,  4.10235139,  4.50745719,\n",
       "         4.91779433,  5.31620703]),\n",
       " array([ 0.50909937,  0.57238118,  0.57735297,  0.64876309,  0.76058145,\n",
       "         0.69868836,  0.72918795,  0.70730829,  0.72926275,  0.83052642,\n",
       "         0.90293906,  1.03837399]))"
      ]
     },
     "execution_count": 14,
     "metadata": {},
     "output_type": "execute_result"
    }
   ],
   "source": [
    "x,y"
   ]
  },
  {
   "cell_type": "code",
   "execution_count": null,
   "metadata": {
    "collapsed": true
   },
   "outputs": [],
   "source": []
  },
  {
   "cell_type": "code",
   "execution_count": 15,
   "metadata": {
    "collapsed": false
   },
   "outputs": [
    {
     "ename": "TypeError",
     "evalue": "fit() takes exactly 2 arguments (3 given)",
     "output_type": "error",
     "traceback": [
      "\u001b[0;31m---------------------------------------------------------------------------\u001b[0m",
      "\u001b[0;31mTypeError\u001b[0m                                 Traceback (most recent call last)",
      "\u001b[0;32m<ipython-input-15-83d70ff73bcb>\u001b[0m in \u001b[0;36m<module>\u001b[0;34m()\u001b[0m\n\u001b[0;32m----> 1\u001b[0;31m \u001b[0mfitter\u001b[0m\u001b[0;34m.\u001b[0m\u001b[0mfit\u001b[0m\u001b[0;34m(\u001b[0m\u001b[0mx\u001b[0m\u001b[0;34m,\u001b[0m\u001b[0my\u001b[0m\u001b[0;34m)\u001b[0m\u001b[0;34m\u001b[0m\u001b[0m\n\u001b[0m",
      "\u001b[0;31mTypeError\u001b[0m: fit() takes exactly 2 arguments (3 given)"
     ]
    }
   ],
   "source": [
    "fitter.fit(x,y)"
   ]
  },
  {
   "cell_type": "code",
   "execution_count": null,
   "metadata": {
    "collapsed": true
   },
   "outputs": [],
   "source": []
  },
  {
   "cell_type": "code",
   "execution_count": null,
   "metadata": {
    "collapsed": false
   },
   "outputs": [],
   "source": [
    "def circular_path(x, r, vx, vy):\n",
    "    return r - np.sqrt(r**2-(x-vx)**2) + vy\n",
    "\n",
    "\n",
    "def rotateArray(x, y, phi):\n",
    "    c, s = np.cos(phi), np.sin(phi)\n",
    "    xr=c*x-s*y\n",
    "    yr=s*x+c*y\n",
    "\n",
    "    return xr,yr\n",
    "\n",
    "\n",
    "def rotateToQuadrant(x,y):\n",
    "    seedx=x[1]-x[0]\n",
    "    seedy=y[1]-y[0]\n",
    "    phi0=np.arctan2(y[0],x[0])\n",
    "    phi1=np.arctan2(seedy,seedx)\n",
    "    phi=phi1\n",
    "    xr,yr=rotateArray(x,y,-phi)\n",
    "    return xr,yr,phi\n",
    "\n",
    "def fit(x,y):\n",
    "    xr,yr,phi=rotateToQuadrant(x,y);\n",
    "    p, cov = curve_fit(circular_path, xr, yr,\n",
    "                       p0=[200.,0.,0.],\n",
    "                       bounds=([5.,-25.,-25.],\n",
    "                               [1000., 25, 25]\n",
    "                               )\n",
    "                       )\n",
    "\n",
    "    r = p[0]\n",
    "    pt = r\n",
    "    vx = p[1]\n",
    "    vy = p[2]\n",
    "    chg = 1\n",
    "    return  pt,phi,vx,vy,chg\n",
    "\n",
    "\n",
    "\n"
   ]
  },
  {
   "cell_type": "code",
   "execution_count": null,
   "metadata": {
    "collapsed": false
   },
   "outputs": [],
   "source": [
    "fit(x,y)"
   ]
  },
  {
   "cell_type": "code",
   "execution_count": null,
   "metadata": {
    "collapsed": false
   },
   "outputs": [],
   "source": [
    "aa=[]\n",
    "aa+=[2]\n",
    "aa+=[3]\n",
    "aa"
   ]
  },
  {
   "cell_type": "code",
   "execution_count": null,
   "metadata": {
    "collapsed": true
   },
   "outputs": [],
   "source": []
  },
  {
   "cell_type": "code",
   "execution_count": null,
   "metadata": {
    "collapsed": true
   },
   "outputs": [],
   "source": []
  }
 ],
 "metadata": {
  "kernelspec": {
   "display_name": "Python 2",
   "language": "python",
   "name": "python2"
  },
  "language_info": {
   "codemirror_mode": {
    "name": "ipython",
    "version": 2
   },
   "file_extension": ".py",
   "mimetype": "text/x-python",
   "name": "python",
   "nbconvert_exporter": "python",
   "pygments_lexer": "ipython2",
   "version": "2.7.11"
  }
 },
 "nbformat": 4,
 "nbformat_minor": 2
}

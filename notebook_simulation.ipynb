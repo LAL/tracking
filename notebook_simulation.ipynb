{
 "cells": [
  {
   "cell_type": "code",
   "execution_count": 1,
   "metadata": {
    "collapsed": false
   },
   "outputs": [
    {
     "name": "stderr",
     "output_type": "stream",
     "text": [
      "//anaconda/lib/python2.7/site-packages/matplotlib/font_manager.py:273: UserWarning: Matplotlib is building the font cache using fc-list. This may take a moment.\n",
      "  warnings.warn('Matplotlib is building the font cache using fc-list. This may take a moment.')\n"
     ]
    }
   ],
   "source": [
    "%matplotlib inline\n",
    "\n",
    "import numpy as np\n",
    "import matplotlib.pyplot as plt\n",
    "from Simulate import *\n",
    "sim = Simulator()"
   ]
  },
  {
   "cell_type": "code",
   "execution_count": 2,
   "metadata": {
    "collapsed": false
   },
   "outputs": [],
   "source": [
    "sim.detector.reset()"
   ]
  },
  {
   "cell_type": "code",
   "execution_count": 3,
   "metadata": {
    "collapsed": false
   },
   "outputs": [
    {
     "name": "stdout",
     "output_type": "stream",
     "text": [
      "Particle id=0 at layer -1 iphi -1 (x,y)=(0.5,0.5) (px,py)=(2000.0,100.0)\n",
      "tocenter= [ -333.33333333  6666.66666667    -0.        ]  radius= 6674.99479817\n",
      "rotcenter= [ -332.83333333  6667.16666667     0.        ]\n",
      "vintersect=  [[-38.97639559  -1.3566823    0.        ]\n",
      " [ 38.91772774   2.53189017   0.        ]]\n",
      "newphipos= 0.0649659499511 iphi= 103 cell phi 0.0647168086639\n",
      "Particle id=0 at layer 0 iphi 103 (x,y)=(38.9177277367,2.53189016549) (px,py)=(1997.73937047,137.976112761)\n",
      "tocenter= [ -459.92037587  6659.13123488    -0.        ]  radius= 6674.99479817\n",
      "rotcenter= [ -421.00264813  6661.66312505     0.        ]\n",
      "vintersect=  [[-84.86080291  -4.86252295   0.        ]\n",
      " [ 84.7977941    5.85953208   0.        ]]\n",
      "newphipos= 0.0689903871247 iphi= 109 cell phi 0.0684867198483\n",
      "Particle id=0 at layer 1 iphi 109 (x,y)=(84.7977940975,5.85953207988) (px,py)=(1998.93749821,119.368665277)\n",
      "tocenter= [ -397.89555092  6663.12499403    -0.        ]  radius= 6674.99479817\n",
      "rotcenter= [ -313.09775683  6668.98452611     0.        ]\n",
      "vintersect=  [[-154.94479665   -4.13642264    0.        ]\n",
      " [ 154.6507989    10.39857682    0.        ]]\n",
      "newphipos= 0.0671380185854 iphi= 106 cell phi 0.0666017642561\n",
      "Particle id=0 at layer 2 iphi 106 (x,y)=(154.650798899,10.3985768164) (px,py)=(1997.407431,142.700927014)\n",
      "tocenter= [ -475.66975671  6658.02477001    -0.        ]  radius= 6674.99479817\n",
      "rotcenter= [ -321.01895781  6668.42334683     0.        ]\n",
      "vintersect=  [[-212.92382189   -5.69614544    0.        ]\n",
      " [ 212.48637114   14.78316874    0.        ]]\n",
      "newphipos= 0.0694603893718 iphi= 110 cell phi 0.069115038379\n",
      "Particle id=0 at layer 3 iphi 110 (x,y)=(212.486371144,14.7831687365) (px,py)=(2002.37255618,22.453201136)\n",
      "tocenter= [  -74.84400379  6674.57518728    -0.        ]  radius= 6674.99479817\n",
      "rotcenter= [  137.64236736  6689.35835602     0.        ]\n",
      "vintersect=  [[-269.67133382   26.80245724    0.        ]\n",
      " [ 270.54560593   15.68678148    0.        ]]\n",
      "newphipos= 0.0579171766473 iphi= 92 cell phi 0.0578053048261\n",
      "Particle id=0 at layer 4 iphi 92 (x,y)=(270.545605928,15.6867814832) (px,py)=(1999.85765035,102.807481948)\n",
      "tocenter= [ -342.69160649  6666.19216783    -0.        ]  radius= 6674.99479817\n",
      "rotcenter= [  -72.14600057  6681.87894931     0.        ]\n",
      "vintersect=  [[-404.71563526   15.17414156    0.        ]\n",
      " [ 404.29364188   23.90922704    0.        ]]\n",
      "newphipos= 0.0590694733955 iphi= 94 cell phi 0.0590619418875\n",
      "Particle id=0 at layer 5 iphi 94 (x,y)=(404.293641877,23.9092270399) (px,py)=(1996.26680862,157.856988419)\n",
      "tocenter= [ -526.1899614   6654.22269541    -0.        ]  radius= 6674.99479817\n",
      "rotcenter= [ -121.89631952  6678.13192245     0.        ]\n",
      "vintersect=  [[-561.72298537   17.64334731    0.        ]\n",
      " [ 560.70493146   38.13108753    0.        ]]\n",
      "newphipos= 0.0679010751193 iphi= 108 cell phi 0.0678584013175\n",
      "Particle id=0 at layer 6 iphi 108 (x,y)=(560.70493146,38.1310875294) (px,py)=(1992.97905049,195.024368537)\n",
      "tocenter= [ -650.08122846  6643.26350162    -0.        ]  radius= 6674.99479817\n",
      "rotcenter= [  -89.376297    6681.39458915     0.        ]\n",
      "vintersect=  [[-760.93527884   40.26787078    0.        ]\n",
      " [ 759.58587692   60.60771878    0.        ]]\n",
      "newphipos= 0.0796217908067 iphi= 126 cell phi 0.0791681348705\n",
      "Particle id=0 at layer 7 iphi 126 (x,y)=(759.585876925,60.6077187843) (px,py)=(1979.18522559,304.673337872)\n",
      "tocenter= [-1015.57779291  6597.2840853     -0.        ]  radius= 6674.99479817\n",
      "rotcenter= [ -255.99191598  6657.89180408     0.        ]\n",
      "vintersect=  [[-999.70087406   24.4573587     0.        ]\n",
      " [ 994.87144474  101.14745888    0.        ]]\n",
      "newphipos= 0.101320727822 iphi= 161 cell phi 0.101159283446\n",
      "Particle id=0 at layer 8 iphi 161 (x,y)=(994.871444742,101.147458878) (px,py)=(1966.36181556,378.709928993)\n"
     ]
    },
    {
     "name": "stderr",
     "output_type": "stream",
     "text": [
      "Simulate.py:157: FutureWarning: sort(columns=....) is deprecated, use sort_values(by=.....)\n",
      "  self.history=self.history.sort(['particle','layer','hit'])\n"
     ]
    }
   ],
   "source": [
    "a = 0.6\n",
    "v = 0.02\n",
    "position = a*(2.*np.random.random(2)-[1.,1.])\n",
    "velocity = v*(2.*np.random.random(2)-[1.,1.])\n",
    "\n",
    "position = [0.,0.]\n",
    "velocity = [0.05,0.001]\n",
    "\n",
    "pt=np.linalg.norm(velocity)\n",
    "phi=np.arctan2(velocity[1],velocity[0])\n",
    "xVtx=position[0]\n",
    "yVtx=position[1]\n",
    "\n",
    "simtrack1=sim.propagate_direct([0.5,0.5],[2000.,100],id=0)\n",
    "#simtrack2=sim.propagate_direct([0.2,0.2],[-100,2000], id=1)\n",
    "#simtrack3=sim.propagate_direct([0.,0.],[-1000,100], id=2)\n",
    "#simtrack4=sim.propagate_direct([0.,0.],[200,-500], id=3)\n",
    "\n",
    "hits=sim.detector.getHits()"
   ]
  },
  {
   "cell_type": "raw",
   "metadata": {
    "collapsed": false
   },
   "source": [
    "hits"
   ]
  },
  {
   "cell_type": "code",
   "execution_count": 4,
   "metadata": {
    "collapsed": false
   },
   "outputs": [
    {
     "data": {
      "text/plain": [
       "array([   2.52219407,    5.81682146,   10.31564316,   14.70978548,\n",
       "         15.65651496,   23.9061821 ,   38.10716008,   60.26312192,\n",
       "        100.98684116])"
      ]
     },
     "execution_count": 4,
     "metadata": {},
     "output_type": "execute_result"
    }
   ],
   "source": [
    "x=hits['x'].values\n",
    "y=hits['y'].values\n",
    "x\n",
    "y\n"
   ]
  },
  {
   "cell_type": "code",
   "execution_count": 5,
   "metadata": {
    "collapsed": false
   },
   "outputs": [
    {
     "data": {
      "image/png": "[encoded data removed]",
      "text/plain": [
       "<matplotlib.figure.Figure at 0x1143dc850>"
      ]
     },
     "metadata": {},
     "output_type": "display_data"
    }
   ],
   "source": [
    "plt.scatter(x,y)\n",
    "plt.axis('equal')\n",
    "\n",
    "axes = plt.gca()\n",
    "axes.set_xlim([-1100,1100])\n",
    "axes.set_ylim([-1100,1100])\n",
    "\n",
    "plt.show()"
   ]
  },
  {
   "cell_type": "code",
   "execution_count": 6,
   "metadata": {
    "collapsed": false
   },
   "outputs": [
    {
     "ename": "NameError",
     "evalue": "name 'simtrack2' is not defined",
     "output_type": "error",
     "traceback": [
      "\u001b[0;31m---------------------------------------------------------------------------\u001b[0m",
      "\u001b[0;31mNameError\u001b[0m                                 Traceback (most recent call last)",
      "\u001b[0;32m<ipython-input-6-26a74e0bb070>\u001b[0m in \u001b[0;36m<module>\u001b[0;34m()\u001b[0m\n\u001b[1;32m      1\u001b[0m \u001b[0mplt\u001b[0m\u001b[0;34m.\u001b[0m\u001b[0mplot\u001b[0m\u001b[0;34m(\u001b[0m\u001b[0msimtrack1\u001b[0m\u001b[0;34m[\u001b[0m\u001b[0;34m'x'\u001b[0m\u001b[0;34m]\u001b[0m\u001b[0;34m.\u001b[0m\u001b[0mvalues\u001b[0m\u001b[0;34m,\u001b[0m\u001b[0msimtrack1\u001b[0m\u001b[0;34m[\u001b[0m\u001b[0;34m'y'\u001b[0m\u001b[0;34m]\u001b[0m\u001b[0;34m.\u001b[0m\u001b[0mvalues\u001b[0m\u001b[0;34m)\u001b[0m\u001b[0;34m\u001b[0m\u001b[0m\n\u001b[0;32m----> 2\u001b[0;31m \u001b[0mplt\u001b[0m\u001b[0;34m.\u001b[0m\u001b[0mplot\u001b[0m\u001b[0;34m(\u001b[0m\u001b[0msimtrack2\u001b[0m\u001b[0;34m[\u001b[0m\u001b[0;34m'x'\u001b[0m\u001b[0;34m]\u001b[0m\u001b[0;34m.\u001b[0m\u001b[0mvalues\u001b[0m\u001b[0;34m,\u001b[0m\u001b[0msimtrack2\u001b[0m\u001b[0;34m[\u001b[0m\u001b[0;34m'y'\u001b[0m\u001b[0;34m]\u001b[0m\u001b[0;34m.\u001b[0m\u001b[0mvalues\u001b[0m\u001b[0;34m)\u001b[0m\u001b[0;34m\u001b[0m\u001b[0m\n\u001b[0m\u001b[1;32m      3\u001b[0m \u001b[0mplt\u001b[0m\u001b[0;34m.\u001b[0m\u001b[0mplot\u001b[0m\u001b[0;34m(\u001b[0m\u001b[0msimtrack3\u001b[0m\u001b[0;34m[\u001b[0m\u001b[0;34m'x'\u001b[0m\u001b[0;34m]\u001b[0m\u001b[0;34m.\u001b[0m\u001b[0mvalues\u001b[0m\u001b[0;34m,\u001b[0m\u001b[0msimtrack3\u001b[0m\u001b[0;34m[\u001b[0m\u001b[0;34m'y'\u001b[0m\u001b[0;34m]\u001b[0m\u001b[0;34m.\u001b[0m\u001b[0mvalues\u001b[0m\u001b[0;34m)\u001b[0m\u001b[0;34m\u001b[0m\u001b[0m\n\u001b[1;32m      4\u001b[0m \u001b[0mplt\u001b[0m\u001b[0;34m.\u001b[0m\u001b[0mplot\u001b[0m\u001b[0;34m(\u001b[0m\u001b[0msimtrack4\u001b[0m\u001b[0;34m[\u001b[0m\u001b[0;34m'x'\u001b[0m\u001b[0;34m]\u001b[0m\u001b[0;34m.\u001b[0m\u001b[0mvalues\u001b[0m\u001b[0;34m,\u001b[0m\u001b[0msimtrack4\u001b[0m\u001b[0;34m[\u001b[0m\u001b[0;34m'y'\u001b[0m\u001b[0;34m]\u001b[0m\u001b[0;34m.\u001b[0m\u001b[0mvalues\u001b[0m\u001b[0;34m)\u001b[0m\u001b[0;34m\u001b[0m\u001b[0m\n\u001b[1;32m      5\u001b[0m \u001b[0;34m\u001b[0m\u001b[0m\n",
      "\u001b[0;31mNameError\u001b[0m: name 'simtrack2' is not defined"
     ]
    },
    {
     "data": {
      "image/png": "[encoded data removed]",
      "text/plain": [
       "<matplotlib.figure.Figure at 0x116b02a50>"
      ]
     },
     "metadata": {},
     "output_type": "display_data"
    }
   ],
   "source": [
    "plt.plot(simtrack1['x'].values,simtrack1['y'].values)\n",
    "plt.plot(simtrack2['x'].values,simtrack2['y'].values)\n",
    "plt.plot(simtrack3['x'].values,simtrack3['y'].values)\n",
    "plt.plot(simtrack4['x'].values,simtrack4['y'].values)\n",
    "\n",
    "plt.scatter(x,y)\n",
    "plt.axis('equal')\n",
    "\n",
    "axes = plt.gca()\n",
    "#axes.set_xlim([-2,2])\n",
    "#axes.set_ylim([-2,2])\n",
    "\n",
    "plt.show()"
   ]
  },
  {
   "cell_type": "code",
   "execution_count": null,
   "metadata": {
    "collapsed": false
   },
   "outputs": [],
   "source": [
    "simtrack1['x']"
   ]
  },
  {
   "cell_type": "code",
   "execution_count": null,
   "metadata": {
    "collapsed": true
   },
   "outputs": [],
   "source": []
  },
  {
   "cell_type": "code",
   "execution_count": null,
   "metadata": {
    "collapsed": false
   },
   "outputs": [],
   "source": [
    "sim.plot()"
   ]
  },
  {
   "cell_type": "code",
   "execution_count": null,
   "metadata": {
    "collapsed": false
   },
   "outputs": [],
   "source": [
    "sim.detector.cells_r"
   ]
  },
  {
   "cell_type": "code",
   "execution_count": null,
   "metadata": {
    "collapsed": false
   },
   "outputs": [],
   "source": []
  },
  {
   "cell_type": "code",
   "execution_count": null,
   "metadata": {
    "collapsed": true
   },
   "outputs": [],
   "source": [
    "from Fitting import *"
   ]
  },
  {
   "cell_type": "code",
   "execution_count": null,
   "metadata": {
    "collapsed": false
   },
   "outputs": [],
   "source": [
    "particle_df = hits.loc[hits['particle']==0]"
   ]
  },
  {
   "cell_type": "code",
   "execution_count": null,
   "metadata": {
    "collapsed": true
   },
   "outputs": [],
   "source": [
    "x=particle_df['x'].values\n",
    "y=particle_df['y'].values"
   ]
  },
  {
   "cell_type": "code",
   "execution_count": null,
   "metadata": {
    "collapsed": true
   },
   "outputs": [],
   "source": [
    "fitter = TrackFitter(B=1.)"
   ]
  },
  {
   "cell_type": "code",
   "execution_count": null,
   "metadata": {
    "collapsed": false
   },
   "outputs": [],
   "source": [
    "x,y"
   ]
  },
  {
   "cell_type": "code",
   "execution_count": null,
   "metadata": {
    "collapsed": true
   },
   "outputs": [],
   "source": []
  },
  {
   "cell_type": "code",
   "execution_count": null,
   "metadata": {
    "collapsed": false
   },
   "outputs": [],
   "source": [
    "fitter.fit(x,y)"
   ]
  },
  {
   "cell_type": "code",
   "execution_count": null,
   "metadata": {
    "collapsed": true
   },
   "outputs": [],
   "source": []
  },
  {
   "cell_type": "code",
   "execution_count": null,
   "metadata": {
    "collapsed": false
   },
   "outputs": [],
   "source": [
    "def circular_path(x, r, vx, vy):\n",
    "    return r - np.sqrt(r**2-(x-vx)**2) + vy\n",
    "\n",
    "\n",
    "def rotateArray(x, y, phi):\n",
    "    c, s = np.cos(phi), np.sin(phi)\n",
    "    xr=c*x-s*y\n",
    "    yr=s*x+c*y\n",
    "\n",
    "    return xr,yr\n",
    "\n",
    "\n",
    "def rotateToQuadrant(x,y):\n",
    "    seedx=x[1]-x[0]\n",
    "    seedy=y[1]-y[0]\n",
    "    phi0=np.arctan2(y[0],x[0])\n",
    "    phi1=np.arctan2(seedy,seedx)\n",
    "    phi=phi1\n",
    "    xr,yr=rotateArray(x,y,-phi)\n",
    "    return xr,yr,phi\n",
    "\n",
    "def fit(x,y):\n",
    "    xr,yr,phi=rotateToQuadrant(x,y);\n",
    "    p, cov = curve_fit(circular_path, xr, yr,\n",
    "                       p0=[200.,0.,0.],\n",
    "                       bounds=([5.,-25.,-25.],\n",
    "                               [1000., 25, 25]\n",
    "                               )\n",
    "                       )\n",
    "\n",
    "    r = p[0]\n",
    "    pt = r\n",
    "    vx = p[1]\n",
    "    vy = p[2]\n",
    "    chg = 1\n",
    "    return  pt,phi,vx,vy,chg\n",
    "\n",
    "\n",
    "\n"
   ]
  },
  {
   "cell_type": "code",
   "execution_count": null,
   "metadata": {
    "collapsed": false
   },
   "outputs": [],
   "source": [
    "fit(x,y)"
   ]
  },
  {
   "cell_type": "code",
   "execution_count": null,
   "metadata": {
    "collapsed": false
   },
   "outputs": [],
   "source": [
    "aa=[]\n",
    "aa+=[2]\n",
    "aa+=[3]\n",
    "aa"
   ]
  },
  {
   "cell_type": "code",
   "execution_count": null,
   "metadata": {
    "collapsed": true
   },
   "outputs": [],
   "source": []
  },
  {
   "cell_type": "code",
   "execution_count": null,
   "metadata": {
    "collapsed": true
   },
   "outputs": [],
   "source": []
  }
 ],
 "metadata": {
  "kernelspec": {
   "display_name": "Python 2",
   "language": "python",
   "name": "python2"
  },
  "language_info": {
   "codemirror_mode": {
    "name": "ipython",
    "version": 2
   },
   "file_extension": ".py",
   "mimetype": "text/x-python",
   "name": "python",
   "nbconvert_exporter": "python",
   "pygments_lexer": "ipython2",
   "version": "2.7.11"
  }
 },
 "nbformat": 4,
 "nbformat_minor": 2
}

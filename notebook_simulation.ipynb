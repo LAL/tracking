{
 "cells": [
  {
   "cell_type": "code",
   "execution_count": 1,
   "metadata": {
    "collapsed": false
   },
   "outputs": [
    {
     "name": "stderr",
     "output_type": "stream",
     "text": [
      "//anaconda/lib/python2.7/site-packages/matplotlib/font_manager.py:273: UserWarning: Matplotlib is building the font cache using fc-list. This may take a moment.\n",
      "  warnings.warn('Matplotlib is building the font cache using fc-list. This may take a moment.')\n"
     ]
    }
   ],
   "source": [
    "%matplotlib inline\n",
    "\n",
    "import numpy as np\n",
    "import matplotlib.pyplot as plt\n",
    "from Simulate import *\n",
    "sim = Simulator()"
   ]
  },
  {
   "cell_type": "code",
   "execution_count": 2,
   "metadata": {
    "collapsed": false
   },
   "outputs": [
    {
     "name": "stdout",
     "output_type": "stream",
     "text": [
      "Particle id=0 at layer -1 iphi -1 (x,y)=(0.5,0.5) (px,py)=(500.0,0.0) ch=1\n",
      "tocenter= [   -0.          1666.66666667    -0.        ]  radius= 1666.66666667\n",
      "rotcenter= [  5.00000000e-01   1.66716667e+03   0.00000000e+00]\n",
      "nextrho=  39  vintersect=  [[-38.9879886    0.96785604   0.        ]\n",
      " [ 38.98856212   0.94447009   0.        ]]\n",
      "newphipos= 0.0242195495445 iphi= 37 cell phi 0.0237173899577\n",
      "Particle id=0 at layer 0 iphi 37 (x,y)=(38.9885621208,0.944470090337) (px,py)=(499.844897914,12.4530329491) ch=1\n",
      "tocenter= [  -41.51010983  1666.14965971    -0.        ]  radius= 1666.66666667\n",
      "rotcenter= [   -2.52154771  1667.0941298      0.        ]\n",
      "nextrho=  85  vintersect=  [[-84.96417022   2.46774777   0.        ]\n",
      " [ 84.95631634   2.72475942   0.        ]]\n",
      "newphipos= 0.0320614857301 iphi= 109 cell phi 0.0320585684821\n",
      "Particle id=0 at layer 1 iphi 109 (x,y)=(84.9563163403,2.72475941672) (px,py)=(499.425799073,23.955609372) ch=1\n",
      "tocenter= [  -79.85203124  1664.75266358    -0.        ]  radius= 1666.66666667\n",
      "rotcenter= [    5.1042851   1667.47742299     0.        ]\n",
      "nextrho=  155  vintersect=  [[-154.76697296    8.49612152    0.        ]\n",
      " [ 154.81608675    7.5484624     0.        ]]\n",
      "newphipos= 0.0487190279028 iphi= 302 cell phi 0.0487093634554\n",
      "Particle id=0 at layer 2 iphi 302 (x,y)=(154.816086746,7.54846239697) (px,py)=(497.827457543,46.5598809756) ch=1\n",
      "tocenter= [ -155.19960325  1659.42485848    -0.        ]  radius= 1666.66666667\n",
      "rotcenter= [ -3.83516506e-01   1.66697332e+03   0.00000000e+00]\n",
      "nextrho=  213  vintersect=  [[-212.54819451   13.86596586    0.        ]\n",
      " [ 212.54179179   13.96376529    0.        ]]\n",
      "newphipos= 0.065604633414 iphi= 558 cell phi 0.0654926382121\n",
      "Particle id=0 at layer 3 iphi 558 (x,y)=(212.541791794,13.9637652856) (px,py)=(496.057783677,62.6631889823) ch=1\n",
      "tocenter= [ -208.87729661  1653.52594559    -0.        ]  radius= 1666.66666667\n",
      "rotcenter= [    3.66449519  1667.48971088     0.        ]\n",
      "nextrho=  271  vintersect=  [[-269.98424168   23.44161347    0.        ]\n",
      " [ 270.08466456   22.25475163    0.        ]]\n",
      "newphipos= 0.0822134375366 iphi= 891 cell phi 0.0821952445852\n",
      "Particle id=0 at layer 4 iphi 891 (x,y)=(270.084664559,22.2547516285) (px,py)=(493.212082693,82.1087174778) ch=1\n",
      "tocenter= [ -273.69572493  1644.04027564    -0.        ]  radius= 1666.66666667\n",
      "rotcenter= [   -3.61106037  1666.29502727     0.        ]\n",
      "nextrho=  405  vintersect=  [[-402.1479777    47.97920417    0.        ]\n",
      " [ 401.93624806   49.72175074    0.        ]]\n",
      "newphipos= 0.123080271726 iphi= 996 cell phi 0.122962482138\n",
      "Particle id=0 at layer 5 iphi 996 (x,y)=(401.936248059,49.7217507363) (px,py)=(484.504222015,123.51380024) ch=1\n",
      "tocenter= [ -411.71266747  1615.01407338    -0.        ]  radius= 1666.66666667\n",
      "rotcenter= [   -9.77641941  1664.73582412     0.        ]\n",
      "nextrho=  562  vintersect=  [[-554.79509801   89.70172362    0.        ]\n",
      " [ 553.70329346   96.2115524     0.        ]]\n",
      "newphipos= 0.172042379666 iphi= 1933 cell phi 0.171972660835\n",
      "Particle id=0 at layer 6 iphi 1933 (x,y)=(553.703293456,96.2115524013) (px,py)=(470.29306136,169.77760876) ch=1\n",
      "tocenter= [ -565.92536253  1567.64353787    -0.        ]  radius= 1666.66666667\n",
      "rotcenter= [  -12.22206908  1663.85509027     0.        ]\n",
      "nextrho=  762  vintersect=  [[-743.64168292  166.25596959    0.        ]\n",
      " [ 741.119057    177.16247727    0.        ]]\n",
      "newphipos= 0.234643931805 iphi= 3575 cell phi 0.234579425552\n",
      "Particle id=0 at layer 7 iphi 3575 (x,y)=(741.119056999,177.162477272) (px,py)=(445.75618484,226.498175879) ch=1\n",
      "tocenter= [ -754.9939196   1485.85394947    -0.        ]  radius= 1666.66666667\n",
      "rotcenter= [  -13.8748626   1663.01642674     0.        ]\n",
      "nextrho=  1000  vintersect=  [[-957.30641342  289.07513007    0.        ]\n",
      " [ 952.34986682  305.00775591    0.        ]]\n",
      "newphipos= 0.309946573243 iphi= 6198 cell phi 0.309899275321\n",
      "Particle id=0 at layer 8 iphi 6198 (x,y)=(952.34986682,305.007755914) (px,py)=(407.186819479,290.170456875) ch=1\n",
      "Particle id=1 at layer -1 iphi -1 (x,y)=(0.5,0.5) (px,py)=(0.0,500.0) ch=-1\n",
      "tocenter= [ 1666.66666667     0.             0.        ]  radius= 1666.66666667\n",
      "rotcenter= [  1.66716667e+03   5.00000000e-01   0.00000000e+00]\n",
      "nextrho=  39  vintersect=  [[  0.94447009  38.98856212   0.        ]\n",
      " [  0.96785604 -38.9879886    0.        ]]\n",
      "newphipos= 1.54657677725 iphi= 2412 cell phi 1.54611742103\n",
      "Particle id=1 at layer 0 iphi 2412 (x,y)=(0.944470090337,38.9885621208) (px,py)=(10.4823812363,499.890107607) ch=-1\n",
      "tocenter= [ 1666.30035869   -34.94127079     0.        ]  radius= 1666.66666667\n",
      "rotcenter= [ 1667.24482878     4.04729133     0.        ]\n",
      "nextrho=  85  vintersect=  [[  2.54347481  84.96193698   0.        ]\n",
      " [  2.95593817 -84.94858698   0.        ]]\n",
      "newphipos= 1.54086862633 iphi= 5238 cell phi 1.54057597898\n",
      "Particle id=1 at layer 1 iphi 5238 (x,y)=(2.54347481499,84.9619369828) (px,py)=(24.6261505902,499.393184482) ch=-1\n",
      "tocenter= [ 1664.64394827   -82.08716863     0.        ]  radius= 1666.66666667\n",
      "rotcenter= [ 1667.18742309     2.87476835     0.        ]\n",
      "nextrho=  155  vintersect=  [[   7.4614422   154.82030513    0.        ]\n",
      " [   7.99531643 -154.7936527     0.        ]]\n",
      "newphipos= 1.52263937877 iphi= 9440 cell phi 1.52257083119\n",
      "Particle id=1 at layer 2 iphi 9440 (x,y)=(7.46144220174,154.820305129) (px,py)=(43.5550226275,498.099347524) ch=-1\n",
      "tocenter= [ 1660.33115841  -145.18340876     0.        ]  radius= 1666.66666667\n",
      "rotcenter= [ 1667.79260062     9.63689637     0.        ]\n",
      "nextrho=  213  vintersect=  [[  13.52662776  212.57005984    0.        ]\n",
      " [  15.98220173 -212.39955091    0.        ]]\n",
      "newphipos= 1.50724826916 iphi= 12841 cell phi 1.50715227111\n",
      "Particle id=1 at layer 3 iphi 12841 (x,y)=(13.5266277618,212.570059842) (px,py)=(59.230762422,496.479321607) ch=-1\n",
      "tocenter= [ 1654.93107202  -197.43587474     0.        ]  radius= 1666.66666667\n",
      "rotcenter= [ 1668.45769978    15.1341851      0.        ]\n",
      "nextrho=  271  vintersect=  [[  21.4168717   270.152397      0.        ]\n",
      " [  26.31392144 -269.71944227    0.        ]]\n",
      "newphipos= 1.49168478403 iphi= 16169 cell phi 1.49159922525\n",
      "Particle id=1 at layer 4 iphi 16169 (x,y)=(21.4168716993,270.152397003) (px,py)=(76.737512415,494.076263535) ch=-1\n",
      "tocenter= [ 1646.92087845  -255.79170805     0.        ]  radius= 1666.66666667\n",
      "rotcenter= [ 1668.33775015    14.36068895     0.        ]\n",
      "nextrho=  405  vintersect=  [[  47.42809982  402.21334556    0.        ]\n",
      " [  54.34488927 -401.33730578    0.        ]]\n",
      "newphipos= 1.45342057751 iphi= 11772 cell phi 1.45332765033\n",
      "Particle id=1 at layer 5 iphi 11772 (x,y)=(47.4280998161,402.213345562) (px,py)=(114.780814681,486.647063673) ch=-1\n",
      "tocenter= [ 1622.15687891  -382.6027156      0.        ]  radius= 1666.66666667\n",
      "rotcenter= [ 1669.58497872    19.61062996     0.        ]\n",
      "nextrho=  562  vintersect=  [[  91.10467858  554.56644105    0.        ]\n",
      " [ 104.10541204 -552.27354018    0.        ]]\n",
      "newphipos= 1.40796982215 iphi= 15825 cell phi 1.40789827093\n",
      "Particle id=1 at layer 6 iphi 15825 (x,y)=(91.104678577,554.566441052) (px,py)=(156.124730612,475.000072096) ch=-1\n",
      "tocenter= [ 1583.33357365  -520.41576871     0.        ]  radius= 1666.66666667\n",
      "rotcenter= [ 1674.43825223    34.15067234     0.        ]\n",
      "nextrho=  762  vintersect=  [[ 166.3200186   743.62736059    0.        ]\n",
      " [ 196.50210396 -736.22749415    0.        ]]\n",
      "newphipos= 1.35075726734 iphi= 20585 cell phi 1.35071817482\n",
      "Particle id=1 at layer 7 iphi 20585 (x,y)=(166.320018597,743.627360587) (px,py)=(212.411660773,452.638140646) ch=-1\n"
     ]
    },
    {
     "name": "stderr",
     "output_type": "stream",
     "text": [
      "Simulate.py:171: FutureWarning: sort(columns=....) is deprecated, use sort_values(by=.....)\n",
      "  self.history=self.history.sort(['particle','layer','hit'])\n"
     ]
    }
   ],
   "source": [
    "sim.detector.reset()\n",
    "\n",
    "position = [0.,0.]\n",
    "velocity = [0.05,0.001]\n",
    "\n",
    "pt=np.linalg.norm(velocity)\n",
    "phi=np.arctan2(velocity[1],velocity[0])\n",
    "xVtx=position[0]\n",
    "yVtx=position[1]\n",
    "\n",
    "simtrack1=sim.propagate([0.5,0.5],[500.,0],1,id=0)\n",
    "simtrack2=sim.propagate([0.5,0.5],[0.,500],-1,id=1)\n",
    "\n",
    "\n",
    "#simtrack2=sim.propagate([0.2,0.2],[-100,2000], id=1)\n",
    "#simtrack3=sim.propagate([0.,0.],[-1000,100], id=2)\n",
    "#simtrack4=sim.propagate([0.,0.],[20,-200], id=3)\n",
    "\n",
    "hits=sim.detector.getHits()"
   ]
  },
  {
   "cell_type": "code",
   "execution_count": 3,
   "metadata": {
    "collapsed": false
   },
   "outputs": [],
   "source": [
    "#q=Detector()\n",
    "#q.Nrho\n"
   ]
  },
  {
   "cell_type": "raw",
   "metadata": {
    "collapsed": false
   },
   "source": [
    "hits"
   ]
  },
  {
   "cell_type": "code",
   "execution_count": 4,
   "metadata": {
    "collapsed": false
   },
   "outputs": [
    {
     "name": "stdout",
     "output_type": "stream",
     "text": [
      "[  38.98903148   84.95632429  154.81615969  212.54335434  270.08506939\n",
      "  401.94210198  553.70999987  741.13048354  952.36429199    0.96237963\n",
      "    2.56833859    7.47205474   13.54703401   21.43998553   47.46547616\n",
      "   91.14435825  166.34908873]\n",
      "[   0.92489149    2.72451158    7.54696618   13.93996154   22.24983799\n",
      "   49.67440649   96.17294862  177.11467009  304.9627114    38.98812416\n",
      "   84.961189    154.8197933   212.56876033  270.15056361  402.20893647\n",
      "  554.55992098  743.62085815]\n"
     ]
    }
   ],
   "source": [
    "x=hits['x'].values\n",
    "y=hits['y'].values\n",
    "print x\n",
    "print y\n"
   ]
  },
  {
   "cell_type": "code",
   "execution_count": 5,
   "metadata": {
    "collapsed": false
   },
   "outputs": [
    {
     "data": {
      "image/png": "[encoded data removed]",
      "text/plain": [
       "<matplotlib.figure.Figure at 0x1143e1c10>"
      ]
     },
     "metadata": {},
     "output_type": "display_data"
    }
   ],
   "source": [
    "plt.scatter(x,y)\n",
    "#plt.axis('equal')\n",
    "\n",
    "axes = plt.gca()\n",
    "axes.set_xlim([-1100,1100])\n",
    "axes.set_ylim([-1100,1100])\n",
    "\n",
    "\n",
    "plt.show()"
   ]
  },
  {
   "cell_type": "code",
   "execution_count": 6,
   "metadata": {
    "collapsed": false
   },
   "outputs": [
    {
     "data": {
      "image/png": "[encoded data removed]",
      "text/plain": [
       "<matplotlib.figure.Figure at 0x11a8ce310>"
      ]
     },
     "metadata": {},
     "output_type": "display_data"
    }
   ],
   "source": [
    "plt.plot(simtrack1['x'].values,simtrack1['y'].values)\n",
    "plt.plot(simtrack2['x'].values,simtrack2['y'].values)\n",
    "#plt.plot(simtrack3['x'].values,simtrack3['y'].values)\n",
    "#plt.plot(simtrack4['x'].values,simtrack4['y'].values)\n",
    "\n",
    "plt.scatter(x,y)\n",
    "plt.axis('equal')\n",
    "\n",
    "axes = plt.gca()\n",
    "#axes.set_xlim([-2,2])\n",
    "#axes.set_ylim([-2,2])\n",
    "\n",
    "plt.show()"
   ]
  },
  {
   "cell_type": "code",
   "execution_count": 7,
   "metadata": {
    "collapsed": false
   },
   "outputs": [
    {
     "data": {
      "text/plain": [
       "0     38.988562\n",
       "1     84.956316\n",
       "2    154.816087\n",
       "3    212.541792\n",
       "4    270.084665\n",
       "5    401.936248\n",
       "6    553.703293\n",
       "7    741.119057\n",
       "8    952.349867\n",
       "Name: x, dtype: float64"
      ]
     },
     "execution_count": 7,
     "metadata": {},
     "output_type": "execute_result"
    }
   ],
   "source": [
    "simtrack1['x']"
   ]
  },
  {
   "cell_type": "code",
   "execution_count": null,
   "metadata": {
    "collapsed": true
   },
   "outputs": [],
   "source": []
  },
  {
   "cell_type": "code",
   "execution_count": 8,
   "metadata": {
    "collapsed": false
   },
   "outputs": [
    {
     "data": {
      "image/png": "[encoded data removed]",
      "text/plain": [
       "<matplotlib.figure.Figure at 0x11a8d6a90>"
      ]
     },
     "metadata": {},
     "output_type": "display_data"
    }
   ],
   "source": [
    "sim.plot()"
   ]
  },
  {
   "cell_type": "code",
   "execution_count": 9,
   "metadata": {
    "collapsed": false
   },
   "outputs": [
    {
     "data": {
      "text/plain": [
       "array([  39,   85,  155,  213,  271,  405,  562,  762, 1000])"
      ]
     },
     "execution_count": 9,
     "metadata": {},
     "output_type": "execute_result"
    }
   ],
   "source": [
    "sim.detector.cells_r"
   ]
  },
  {
   "cell_type": "code",
   "execution_count": null,
   "metadata": {
    "collapsed": false
   },
   "outputs": [],
   "source": []
  },
  {
   "cell_type": "code",
   "execution_count": 10,
   "metadata": {
    "collapsed": true
   },
   "outputs": [],
   "source": []
  },
  {
   "cell_type": "code",
   "execution_count": 11,
   "metadata": {
    "collapsed": false
   },
   "outputs": [],
   "source": []
  },
  {
   "cell_type": "code",
   "execution_count": null,
   "metadata": {
    "collapsed": true
   },
   "outputs": [],
   "source": []
  },
  {
   "cell_type": "code",
   "execution_count": null,
   "metadata": {
    "collapsed": true
   },
   "outputs": [],
   "source": []
  },
  {
   "cell_type": "code",
   "execution_count": null,
   "metadata": {
    "collapsed": false
   },
   "outputs": [
    {
     "data": {
      "text/plain": [
       "(array([  38.98903148,   84.95632429,  154.81615969,  212.54335434,\n",
       "         270.08506939,  401.94210198,  553.70999987,  741.13048354,\n",
       "         952.36429199]),\n",
       " array([   0.92489149,    2.72451158,    7.54696618,   13.93996154,\n",
       "          22.24983799,   49.67440649,   96.17294862,  177.11467009,\n",
       "         304.9627114 ]))"
      ]
     },
     "execution_count": 14,
     "metadata": {},
     "output_type": "execute_result"
    }
   ],
   "source": [
    "x,y"
   ]
  },
  {
   "cell_type": "code",
   "execution_count": null,
   "metadata": {
    "collapsed": true
   },
   "outputs": [],
   "source": []
  },
  {
   "cell_type": "code",
   "execution_count": null,
   "metadata": {
    "collapsed": false
   },
   "outputs": [],
   "source": []
  },
  {
   "cell_type": "code",
   "execution_count": null,
   "metadata": {
    "collapsed": true
   },
   "outputs": [],
   "source": []
  },
  {
   "cell_type": "code",
   "execution_count": null,
   "metadata": {
    "collapsed": false
   },
   "outputs": [],
   "source": []
  },
  {
   "cell_type": "code",
   "execution_count": null,
   "metadata": {
    "collapsed": false
   },
   "outputs": [],
   "source": [
    "fit(x,y)"
   ]
  },
  {
   "cell_type": "code",
   "execution_count": null,
   "metadata": {
    "collapsed": false
   },
   "outputs": [],
   "source": [
    "aa=[]\n",
    "aa+=[2]\n",
    "aa+=[3]\n",
    "aa"
   ]
  },
  {
   "cell_type": "code",
   "execution_count": null,
   "metadata": {
    "collapsed": true
   },
   "outputs": [],
   "source": []
  },
  {
   "cell_type": "code",
   "execution_count": null,
   "metadata": {
    "collapsed": true
   },
   "outputs": [],
   "source": []
  },
  {
   "cell_type": "code",
   "execution_count": null,
   "metadata": {
    "collapsed": true
   },
   "outputs": [],
   "source": []
  },
  {
   "cell_type": "code",
   "execution_count": null,
   "metadata": {
    "collapsed": true
   },
   "outputs": [],
   "source": []
  },
  {
   "cell_type": "code",
   "execution_count": null,
   "metadata": {
    "collapsed": true
   },
   "outputs": [],
   "source": []
  }
 ],
 "metadata": {
  "kernelspec": {
   "display_name": "Python 2",
   "language": "python",
   "name": "python2"
  },
  "language_info": {
   "codemirror_mode": {
    "name": "ipython",
    "version": 2
   },
   "file_extension": ".py",
   "mimetype": "text/x-python",
   "name": "python",
   "nbconvert_exporter": "python",
   "pygments_lexer": "ipython2",
   "version": "2.7.6"
  }
 },
 "nbformat": 4,
 "nbformat_minor": 2
}

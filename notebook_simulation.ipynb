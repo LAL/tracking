{
 "cells": [
  {
   "cell_type": "code",
   "execution_count": 1,
   "metadata": {
    "collapsed": false
   },
   "outputs": [],
   "source": [
    "import numpy as np\n",
    "import matplotlib.pyplot as plt\n",
    "\n",
    "from Simulate import *\n",
    "sim = Simulator()"
   ]
  },
  {
   "cell_type": "code",
   "execution_count": 2,
   "metadata": {
    "collapsed": false
   },
   "outputs": [
    {
     "data": {
      "text/plain": [
       "9"
      ]
     },
     "execution_count": 2,
     "metadata": {},
     "output_type": "execute_result"
    }
   ],
   "source": [
    "np.max([0,2,3,5,6,4,9,2])"
   ]
  },
  {
   "cell_type": "code",
   "execution_count": 3,
   "metadata": {
    "collapsed": false
   },
   "outputs": [],
   "source": [
    "sim.detector.reset()"
   ]
  },
  {
   "cell_type": "code",
   "execution_count": 4,
   "metadata": {
    "collapsed": false
   },
   "outputs": [],
   "source": [
    "a = 0.6\n",
    "v = 0.02\n",
    "position = a*(2.*np.random.random(2)-[1.,1.])\n",
    "velocity = v*(2.*np.random.random(2)-[1.,1.])\n",
    "\n",
    "position = [0.,0.]\n",
    "velocity = [0.05,0.001]\n",
    "\n",
    "pt=np.linalg.norm(velocity)\n",
    "phi=np.arctan2(velocity[1],velocity[0])\n",
    "xVtx=position[0]\n",
    "yVtx=position[1]\n",
    "\n",
    "simtrack1=sim.propagate([0.5,0.5],[5.,0.1], step = 1, id=0)\n",
    "simtrack2=sim.propagate([0.5,0.5],[1.,-0.5], step = 1, id=1)\n",
    "simtrack3=sim.propagate([0.,0.],[-0.1,-2.], step = 1, id=2)\n",
    "simtrack4=sim.propagate([0.,0.],[1.5,3.], step = 1, id=3)\n",
    "\n",
    "hits=sim.detector.getHits()"
   ]
  },
  {
   "cell_type": "code",
   "execution_count": 5,
   "metadata": {
    "collapsed": false
   },
   "outputs": [
    {
     "data": {
      "text/html": [
       "<div style=\"max-height:1000px;max-width:1500px;overflow:auto;\">\n",
       "<table border=\"1\" class=\"dataframe\">\n",
       "  <thead>\n",
       "    <tr style=\"text-align: right;\">\n",
       "      <th></th>\n",
       "      <th>hit</th>\n",
       "      <th>layer</th>\n",
       "      <th>particle</th>\n",
       "      <th>x</th>\n",
       "      <th>y</th>\n",
       "    </tr>\n",
       "  </thead>\n",
       "  <tbody>\n",
       "    <tr>\n",
       "      <th>2 </th>\n",
       "      <td>  2</td>\n",
       "      <td>  0</td>\n",
       "      <td> 0</td>\n",
       "      <td> 6.741808e-01</td>\n",
       "      <td> 0.489821</td>\n",
       "    </tr>\n",
       "    <tr>\n",
       "      <th>12</th>\n",
       "      <td> 12</td>\n",
       "      <td>  2</td>\n",
       "      <td> 0</td>\n",
       "      <td> 1.566154e+00</td>\n",
       "      <td> 0.570034</td>\n",
       "    </tr>\n",
       "    <tr>\n",
       "      <th>18</th>\n",
       "      <td> 18</td>\n",
       "      <td>  4</td>\n",
       "      <td> 0</td>\n",
       "      <td> 2.377641e+00</td>\n",
       "      <td> 0.772542</td>\n",
       "    </tr>\n",
       "    <tr>\n",
       "      <th>20</th>\n",
       "      <td> 20</td>\n",
       "      <td>  5</td>\n",
       "      <td> 0</td>\n",
       "      <td> 2.773915e+00</td>\n",
       "      <td> 0.901300</td>\n",
       "    </tr>\n",
       "    <tr>\n",
       "      <th>22</th>\n",
       "      <td> 22</td>\n",
       "      <td>  7</td>\n",
       "      <td> 0</td>\n",
       "      <td> 3.523847e+00</td>\n",
       "      <td> 1.282576</td>\n",
       "    </tr>\n",
       "    <tr>\n",
       "      <th>23</th>\n",
       "      <td> 23</td>\n",
       "      <td>  8</td>\n",
       "      <td> 0</td>\n",
       "      <td> 3.863266e+00</td>\n",
       "      <td> 1.560861</td>\n",
       "    </tr>\n",
       "    <tr>\n",
       "      <th>24</th>\n",
       "      <td> 24</td>\n",
       "      <td>  9</td>\n",
       "      <td> 0</td>\n",
       "      <td> 4.249593e+00</td>\n",
       "      <td> 1.716947</td>\n",
       "    </tr>\n",
       "    <tr>\n",
       "      <th>25</th>\n",
       "      <td> 25</td>\n",
       "      <td> 11</td>\n",
       "      <td> 0</td>\n",
       "      <td> 4.868468e+00</td>\n",
       "      <td> 2.374510</td>\n",
       "    </tr>\n",
       "    <tr>\n",
       "      <th>0 </th>\n",
       "      <td>  0</td>\n",
       "      <td>  0</td>\n",
       "      <td> 1</td>\n",
       "      <td> 7.357897e-01</td>\n",
       "      <td> 0.391226</td>\n",
       "    </tr>\n",
       "    <tr>\n",
       "      <th>1 </th>\n",
       "      <td>  1</td>\n",
       "      <td>  0</td>\n",
       "      <td> 1</td>\n",
       "      <td> 7.216878e-01</td>\n",
       "      <td> 0.416667</td>\n",
       "    </tr>\n",
       "    <tr>\n",
       "      <th>6 </th>\n",
       "      <td>  6</td>\n",
       "      <td>  1</td>\n",
       "      <td> 1</td>\n",
       "      <td> 1.188821e+00</td>\n",
       "      <td> 0.386271</td>\n",
       "    </tr>\n",
       "    <tr>\n",
       "      <th>11</th>\n",
       "      <td> 11</td>\n",
       "      <td>  2</td>\n",
       "      <td> 1</td>\n",
       "      <td> 1.602103e+00</td>\n",
       "      <td> 0.459396</td>\n",
       "    </tr>\n",
       "    <tr>\n",
       "      <th>4 </th>\n",
       "      <td>  4</td>\n",
       "      <td>  0</td>\n",
       "      <td> 2</td>\n",
       "      <td> 1.159776e-01</td>\n",
       "      <td>-0.825223</td>\n",
       "    </tr>\n",
       "    <tr>\n",
       "      <th>5 </th>\n",
       "      <td>  5</td>\n",
       "      <td>  0</td>\n",
       "      <td> 2</td>\n",
       "      <td> 1.447068e-01</td>\n",
       "      <td>-0.820673</td>\n",
       "    </tr>\n",
       "    <tr>\n",
       "      <th>8 </th>\n",
       "      <td>  8</td>\n",
       "      <td>  1</td>\n",
       "      <td> 2</td>\n",
       "      <td> 3.024024e-01</td>\n",
       "      <td>-1.212870</td>\n",
       "    </tr>\n",
       "    <tr>\n",
       "      <th>9 </th>\n",
       "      <td>  9</td>\n",
       "      <td>  1</td>\n",
       "      <td> 2</td>\n",
       "      <td> 3.445467e-01</td>\n",
       "      <td>-1.201577</td>\n",
       "    </tr>\n",
       "    <tr>\n",
       "      <th>10</th>\n",
       "      <td> 10</td>\n",
       "      <td>  1</td>\n",
       "      <td> 2</td>\n",
       "      <td> 3.862712e-01</td>\n",
       "      <td>-1.188821</td>\n",
       "    </tr>\n",
       "    <tr>\n",
       "      <th>14</th>\n",
       "      <td> 14</td>\n",
       "      <td>  2</td>\n",
       "      <td> 2</td>\n",
       "      <td> 5.700336e-01</td>\n",
       "      <td>-1.566154</td>\n",
       "    </tr>\n",
       "    <tr>\n",
       "      <th>15</th>\n",
       "      <td> 15</td>\n",
       "      <td>  2</td>\n",
       "      <td> 2</td>\n",
       "      <td> 6.243443e-01</td>\n",
       "      <td>-1.545306</td>\n",
       "    </tr>\n",
       "    <tr>\n",
       "      <th>16</th>\n",
       "      <td> 16</td>\n",
       "      <td>  2</td>\n",
       "      <td> 2</td>\n",
       "      <td> 6.778944e-01</td>\n",
       "      <td>-1.522576</td>\n",
       "    </tr>\n",
       "    <tr>\n",
       "      <th>3 </th>\n",
       "      <td>  3</td>\n",
       "      <td>  0</td>\n",
       "      <td> 3</td>\n",
       "      <td> 2.850168e-01</td>\n",
       "      <td> 0.783077</td>\n",
       "    </tr>\n",
       "    <tr>\n",
       "      <th>7 </th>\n",
       "      <td>  7</td>\n",
       "      <td>  1</td>\n",
       "      <td> 3</td>\n",
       "      <td> 3.445467e-01</td>\n",
       "      <td> 1.201577</td>\n",
       "    </tr>\n",
       "    <tr>\n",
       "      <th>13</th>\n",
       "      <td> 13</td>\n",
       "      <td>  2</td>\n",
       "      <td> 3</td>\n",
       "      <td> 2.894136e-01</td>\n",
       "      <td> 1.641346</td>\n",
       "    </tr>\n",
       "    <tr>\n",
       "      <th>17</th>\n",
       "      <td> 17</td>\n",
       "      <td>  3</td>\n",
       "      <td> 3</td>\n",
       "      <td> 1.453260e-01</td>\n",
       "      <td> 2.078258</td>\n",
       "    </tr>\n",
       "    <tr>\n",
       "      <th>19</th>\n",
       "      <td> 19</td>\n",
       "      <td>  4</td>\n",
       "      <td> 3</td>\n",
       "      <td> 1.530808e-16</td>\n",
       "      <td> 2.500000</td>\n",
       "    </tr>\n",
       "    <tr>\n",
       "      <th>21</th>\n",
       "      <td> 21</td>\n",
       "      <td>  5</td>\n",
       "      <td> 3</td>\n",
       "      <td>-2.034564e-01</td>\n",
       "      <td> 2.909562</td>\n",
       "    </tr>\n",
       "  </tbody>\n",
       "</table>\n",
       "<p>26 rows × 5 columns</p>\n",
       "</div>"
      ],
      "text/plain": [
       "    hit  layer  particle             x         y\n",
       "2     2      0         0  6.741808e-01  0.489821\n",
       "12   12      2         0  1.566154e+00  0.570034\n",
       "18   18      4         0  2.377641e+00  0.772542\n",
       "20   20      5         0  2.773915e+00  0.901300\n",
       "22   22      7         0  3.523847e+00  1.282576\n",
       "23   23      8         0  3.863266e+00  1.560861\n",
       "24   24      9         0  4.249593e+00  1.716947\n",
       "25   25     11         0  4.868468e+00  2.374510\n",
       "0     0      0         1  7.357897e-01  0.391226\n",
       "1     1      0         1  7.216878e-01  0.416667\n",
       "6     6      1         1  1.188821e+00  0.386271\n",
       "11   11      2         1  1.602103e+00  0.459396\n",
       "4     4      0         2  1.159776e-01 -0.825223\n",
       "5     5      0         2  1.447068e-01 -0.820673\n",
       "8     8      1         2  3.024024e-01 -1.212870\n",
       "9     9      1         2  3.445467e-01 -1.201577\n",
       "10   10      1         2  3.862712e-01 -1.188821\n",
       "14   14      2         2  5.700336e-01 -1.566154\n",
       "15   15      2         2  6.243443e-01 -1.545306\n",
       "16   16      2         2  6.778944e-01 -1.522576\n",
       "3     3      0         3  2.850168e-01  0.783077\n",
       "7     7      1         3  3.445467e-01  1.201577\n",
       "13   13      2         3  2.894136e-01  1.641346\n",
       "17   17      3         3  1.453260e-01  2.078258\n",
       "19   19      4         3  1.530808e-16  2.500000\n",
       "21   21      5         3 -2.034564e-01  2.909562\n",
       "\n",
       "[26 rows x 5 columns]"
      ]
     },
     "execution_count": 5,
     "metadata": {},
     "output_type": "execute_result"
    }
   ],
   "source": [
    "hits"
   ]
  },
  {
   "cell_type": "code",
   "execution_count": 6,
   "metadata": {
    "collapsed": false
   },
   "outputs": [],
   "source": [
    "x=hits['x'].values\n",
    "y=hits['y'].values\n"
   ]
  },
  {
   "cell_type": "code",
   "execution_count": 7,
   "metadata": {
    "collapsed": false
   },
   "outputs": [
    {
     "data": {
      "image/png": "[encoded data removed]",
      "text/plain": [
       "<matplotlib.figure.Figure at 0x11008dd90>"
      ]
     },
     "metadata": {},
     "output_type": "display_data"
    }
   ],
   "source": [
    "plt.scatter(x,y)\n",
    "plt.axis('equal')\n",
    "\n",
    "axes = plt.gca()\n",
    "#axes.set_xlim([-2,2])\n",
    "#axes.set_ylim([-2,2])\n",
    "\n",
    "plt.show()"
   ]
  },
  {
   "cell_type": "code",
   "execution_count": 8,
   "metadata": {
    "collapsed": false
   },
   "outputs": [
    {
     "data": {
      "image/png": "[encoded data removed]",
      "text/plain": [
       "<matplotlib.figure.Figure at 0x1100625d0>"
      ]
     },
     "metadata": {},
     "output_type": "display_data"
    }
   ],
   "source": [
    "plt.plot(simtrack1['x'].values,simtrack1['y'].values)\n",
    "plt.plot(simtrack2['x'].values,simtrack2['y'].values)\n",
    "plt.plot(simtrack3['x'].values,simtrack3['y'].values)\n",
    "plt.plot(simtrack4['x'].values,simtrack4['y'].values)\n",
    "\n",
    "plt.scatter(x,y)\n",
    "plt.axis('equal')\n",
    "\n",
    "axes = plt.gca()\n",
    "#axes.set_xlim([-2,2])\n",
    "#axes.set_ylim([-2,2])\n",
    "\n",
    "plt.show()"
   ]
  },
  {
   "cell_type": "code",
   "execution_count": null,
   "metadata": {
    "collapsed": true
   },
   "outputs": [],
   "source": []
  },
  {
   "cell_type": "code",
   "execution_count": null,
   "metadata": {
    "collapsed": true
   },
   "outputs": [],
   "source": []
  },
  {
   "cell_type": "code",
   "execution_count": 8,
   "metadata": {
    "collapsed": false
   },
   "outputs": [
    {
     "data": {
      "image/png": "[encoded data removed]",
      "text/plain": [
       "<matplotlib.figure.Figure at 0x10ebd9750>"
      ]
     },
     "metadata": {},
     "output_type": "display_data"
    }
   ],
   "source": [
    "sim.plot()"
   ]
  },
  {
   "cell_type": "code",
   "execution_count": 9,
   "metadata": {
    "collapsed": false
   },
   "outputs": [
    {
     "data": {
      "text/plain": [
       "array([ 0.83333333,  1.25      ,  1.66666667,  2.08333333,  2.5       ,\n",
       "        2.91666667,  3.33333333,  3.75      ,  4.16666667,  4.58333333,\n",
       "        5.        ,  5.41666667])"
      ]
     },
     "execution_count": 9,
     "metadata": {},
     "output_type": "execute_result"
    }
   ],
   "source": [
    "sim.detector.cells_r"
   ]
  },
  {
   "cell_type": "code",
   "execution_count": null,
   "metadata": {
    "collapsed": false
   },
   "outputs": [],
   "source": []
  },
  {
   "cell_type": "code",
   "execution_count": 10,
   "metadata": {
    "collapsed": true
   },
   "outputs": [],
   "source": [
    "from Fitting import *"
   ]
  },
  {
   "cell_type": "code",
   "execution_count": 11,
   "metadata": {
    "collapsed": false
   },
   "outputs": [],
   "source": [
    "particle_df = hits.loc[hits['particle']==0]"
   ]
  },
  {
   "cell_type": "code",
   "execution_count": 12,
   "metadata": {
    "collapsed": true
   },
   "outputs": [],
   "source": [
    "x=particle_df['x'].values\n",
    "y=particle_df['y'].values"
   ]
  },
  {
   "cell_type": "code",
   "execution_count": 13,
   "metadata": {
    "collapsed": true
   },
   "outputs": [],
   "source": [
    "fitter = TrackFitter(B=1.)"
   ]
  },
  {
   "cell_type": "code",
   "execution_count": 14,
   "metadata": {
    "collapsed": false
   },
   "outputs": [
    {
     "data": {
      "text/plain": [
       "(array([ 0.67418083,  1.14193182,  1.56615437,  2.34923155,  2.74077014,\n",
       "         3.13230874,  3.47693945,  3.80643941,  4.41473796,  4.69097094]),\n",
       " array([ 0.48982104,  0.5084208 ,  0.57003357,  0.85505036,  0.99755875,\n",
       "         1.14006714,  1.40477473,  1.69473601,  2.34735781,  2.70833333]))"
      ]
     },
     "execution_count": 14,
     "metadata": {},
     "output_type": "execute_result"
    }
   ],
   "source": [
    "x,y"
   ]
  },
  {
   "cell_type": "code",
   "execution_count": null,
   "metadata": {
    "collapsed": true
   },
   "outputs": [],
   "source": []
  },
  {
   "cell_type": "code",
   "execution_count": 15,
   "metadata": {
    "collapsed": false
   },
   "outputs": [
    {
     "ename": "TypeError",
     "evalue": "fit() takes exactly 2 arguments (3 given)",
     "output_type": "error",
     "traceback": [
      "\u001b[0;31m---------------------------------------------------------------------------\u001b[0m",
      "\u001b[0;31mTypeError\u001b[0m                                 Traceback (most recent call last)",
      "\u001b[0;32m<ipython-input-15-83d70ff73bcb>\u001b[0m in \u001b[0;36m<module>\u001b[0;34m()\u001b[0m\n\u001b[0;32m----> 1\u001b[0;31m \u001b[0mfitter\u001b[0m\u001b[0;34m.\u001b[0m\u001b[0mfit\u001b[0m\u001b[0;34m(\u001b[0m\u001b[0mx\u001b[0m\u001b[0;34m,\u001b[0m\u001b[0my\u001b[0m\u001b[0;34m)\u001b[0m\u001b[0;34m\u001b[0m\u001b[0m\n\u001b[0m",
      "\u001b[0;31mTypeError\u001b[0m: fit() takes exactly 2 arguments (3 given)"
     ]
    }
   ],
   "source": [
    "fitter.fit(x,y)"
   ]
  },
  {
   "cell_type": "code",
   "execution_count": null,
   "metadata": {
    "collapsed": true
   },
   "outputs": [],
   "source": []
  },
  {
   "cell_type": "code",
   "execution_count": 16,
   "metadata": {
    "collapsed": false
   },
   "outputs": [],
   "source": [
    "def circular_path(x, r, vx, vy):\n",
    "    return r - np.sqrt(r**2-(x-vx)**2) + vy\n",
    "\n",
    "\n",
    "def rotateArray(x, y, phi):\n",
    "    c, s = np.cos(phi), np.sin(phi)\n",
    "    xr=c*x-s*y\n",
    "    yr=s*x+c*y\n",
    "\n",
    "    return xr,yr\n",
    "\n",
    "\n",
    "def rotateToQuadrant(x,y):\n",
    "    seedx=x[1]-x[0]\n",
    "    seedy=y[1]-y[0]\n",
    "    phi0=np.arctan2(y[0],x[0])\n",
    "    phi1=np.arctan2(seedy,seedx)\n",
    "    phi=phi1\n",
    "    xr,yr=rotateArray(x,y,-phi)\n",
    "    return xr,yr,phi\n",
    "\n",
    "def fit(x,y):\n",
    "    xr,yr,phi=rotateToQuadrant(x,y);\n",
    "    p, cov = curve_fit(circular_path, xr, yr,\n",
    "                       p0=[200.,0.,0.],\n",
    "                       bounds=([5.,-25.,-25.],\n",
    "                               [1000., 25, 25]\n",
    "                               )\n",
    "                       )\n",
    "\n",
    "    r = p[0]\n",
    "    pt = r\n",
    "    vx = p[1]\n",
    "    vy = p[2]\n",
    "    chg = 1\n",
    "    return  pt,phi,vx,vy,chg\n",
    "\n",
    "\n",
    "\n"
   ]
  },
  {
   "cell_type": "code",
   "execution_count": 17,
   "metadata": {
    "collapsed": false
   },
   "outputs": [
    {
     "data": {
      "text/plain": [
       "(5.0000000000001386,\n",
       " 0.039743296200480893,\n",
       " 0.74551279613914412,\n",
       " 0.44536258278910779,\n",
       " 1)"
      ]
     },
     "execution_count": 17,
     "metadata": {},
     "output_type": "execute_result"
    }
   ],
   "source": [
    "fit(x,y)"
   ]
  },
  {
   "cell_type": "code",
   "execution_count": null,
   "metadata": {
    "collapsed": true
   },
   "outputs": [],
   "source": []
  },
  {
   "cell_type": "code",
   "execution_count": null,
   "metadata": {
    "collapsed": true
   },
   "outputs": [],
   "source": []
  },
  {
   "cell_type": "code",
   "execution_count": null,
   "metadata": {
    "collapsed": true
   },
   "outputs": [],
   "source": []
  }
 ],
 "metadata": {
  "kernelspec": {
   "display_name": "Python 2",
   "language": "python",
   "name": "python2"
  },
  "language_info": {
   "codemirror_mode": {
    "name": "ipython",
    "version": 2
   },
   "file_extension": ".py",
   "mimetype": "text/x-python",
   "name": "python",
   "nbconvert_exporter": "python",
   "pygments_lexer": "ipython2",
   "version": "2.7.6"
  }
 },
 "nbformat": 4,
 "nbformat_minor": 2
}
